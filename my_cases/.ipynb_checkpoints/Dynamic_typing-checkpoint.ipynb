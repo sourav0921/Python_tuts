{
 "cells": [
  {
   "cell_type": "code",
   "execution_count": 1,
   "id": "fc3eafce",
   "metadata": {},
   "outputs": [],
   "source": [
    "M=[2,3,4]"
   ]
  },
  {
   "cell_type": "code",
   "execution_count": 2,
   "id": "e59460c4",
   "metadata": {},
   "outputs": [],
   "source": [
    "N=[2,3,4]"
   ]
  },
  {
   "cell_type": "code",
   "execution_count": 3,
   "id": "f068c59e",
   "metadata": {},
   "outputs": [
    {
     "data": {
      "text/plain": [
       "True"
      ]
     },
     "execution_count": 3,
     "metadata": {},
     "output_type": "execute_result"
    }
   ],
   "source": [
    "M==N"
   ]
  },
  {
   "cell_type": "code",
   "execution_count": 4,
   "id": "1cf44666",
   "metadata": {},
   "outputs": [
    {
     "data": {
      "text/plain": [
       "False"
      ]
     },
     "execution_count": 4,
     "metadata": {},
     "output_type": "execute_result"
    }
   ],
   "source": [
    "M is N"
   ]
  },
  {
   "cell_type": "code",
   "execution_count": 5,
   "id": "a5593805",
   "metadata": {},
   "outputs": [
    {
     "ename": "SyntaxError",
     "evalue": "invalid syntax (Temp/ipykernel_12136/922600554.py, line 1)",
     "output_type": "error",
     "traceback": [
      "\u001b[1;36m  File \u001b[1;32m\"C:\\Users\\sourav\\AppData\\Local\\Temp/ipykernel_12136/922600554.py\"\u001b[1;36m, line \u001b[1;32m1\u001b[0m\n\u001b[1;33m    id(M|)\u001b[0m\n\u001b[1;37m         ^\u001b[0m\n\u001b[1;31mSyntaxError\u001b[0m\u001b[1;31m:\u001b[0m invalid syntax\n"
     ]
    }
   ],
   "source": [
    "id(M|)"
   ]
  },
  {
   "cell_type": "code",
   "execution_count": 6,
   "id": "ba1d9414",
   "metadata": {},
   "outputs": [
    {
     "data": {
      "text/plain": [
       "1958178929408"
      ]
     },
     "execution_count": 6,
     "metadata": {},
     "output_type": "execute_result"
    }
   ],
   "source": [
    "id(M)"
   ]
  },
  {
   "cell_type": "code",
   "execution_count": 7,
   "id": "7e9b3ac4",
   "metadata": {},
   "outputs": [
    {
     "data": {
      "text/plain": [
       "1958178947264"
      ]
     },
     "execution_count": 7,
     "metadata": {},
     "output_type": "execute_result"
    }
   ],
   "source": [
    "id(N)"
   ]
  },
  {
   "cell_type": "code",
   "execution_count": 8,
   "id": "4cfeca8d",
   "metadata": {},
   "outputs": [],
   "source": [
    "A=[2,4,5]"
   ]
  },
  {
   "cell_type": "code",
   "execution_count": 9,
   "id": "aad13968",
   "metadata": {},
   "outputs": [],
   "source": [
    "#Refer object of A to B\n",
    "B=A"
   ]
  },
  {
   "cell_type": "code",
   "execution_count": 10,
   "id": "0a7e778d",
   "metadata": {},
   "outputs": [
    {
     "data": {
      "text/plain": [
       "[2, 4, 5]"
      ]
     },
     "execution_count": 10,
     "metadata": {},
     "output_type": "execute_result"
    }
   ],
   "source": [
    "B"
   ]
  },
  {
   "cell_type": "code",
   "execution_count": 11,
   "id": "79fac356",
   "metadata": {},
   "outputs": [],
   "source": [
    "A[0]=24"
   ]
  },
  {
   "cell_type": "code",
   "execution_count": 12,
   "id": "673e0287",
   "metadata": {},
   "outputs": [
    {
     "data": {
      "text/plain": [
       "[24, 4, 5]"
      ]
     },
     "execution_count": 12,
     "metadata": {},
     "output_type": "execute_result"
    }
   ],
   "source": [
    "B"
   ]
  },
  {
   "cell_type": "code",
   "execution_count": 13,
   "id": "c7dc4bcf",
   "metadata": {},
   "outputs": [
    {
     "ename": "SyntaxError",
     "evalue": "invalid syntax (Temp/ipykernel_12136/2012557930.py, line 1)",
     "output_type": "error",
     "traceback": [
      "\u001b[1;36m  File \u001b[1;32m\"C:\\Users\\sourav\\AppData\\Local\\Temp/ipykernel_12136/2012557930.py\"\u001b[1;36m, line \u001b[1;32m1\u001b[0m\n\u001b[1;33m    B=list(A|)\u001b[0m\n\u001b[1;37m             ^\u001b[0m\n\u001b[1;31mSyntaxError\u001b[0m\u001b[1;31m:\u001b[0m invalid syntax\n"
     ]
    }
   ],
   "source": [
    "B=list(A|)"
   ]
  },
  {
   "cell_type": "code",
   "execution_count": 14,
   "id": "25ea58e7",
   "metadata": {},
   "outputs": [],
   "source": [
    "#Create a completely new list\n",
    "B=list(A)"
   ]
  },
  {
   "cell_type": "code",
   "execution_count": 15,
   "id": "ff49d726",
   "metadata": {},
   "outputs": [],
   "source": [
    "A[0]=11"
   ]
  },
  {
   "cell_type": "code",
   "execution_count": 16,
   "id": "459a0b26",
   "metadata": {},
   "outputs": [
    {
     "data": {
      "text/plain": [
       "[24, 4, 5]"
      ]
     },
     "execution_count": 16,
     "metadata": {},
     "output_type": "execute_result"
    }
   ],
   "source": [
    "B"
   ]
  },
  {
   "cell_type": "code",
   "execution_count": 17,
   "id": "84590e74",
   "metadata": {},
   "outputs": [
    {
     "data": {
      "text/plain": [
       "[11, 4, 5]"
      ]
     },
     "execution_count": 17,
     "metadata": {},
     "output_type": "execute_result"
    }
   ],
   "source": [
    "A"
   ]
  },
  {
   "cell_type": "code",
   "execution_count": null,
   "id": "57ce1da0",
   "metadata": {},
   "outputs": [],
   "source": []
  }
 ],
 "metadata": {
  "kernelspec": {
   "display_name": "Python 3 (ipykernel)",
   "language": "python",
   "name": "python3"
  },
  "language_info": {
   "codemirror_mode": {
    "name": "ipython",
    "version": 3
   },
   "file_extension": ".py",
   "mimetype": "text/x-python",
   "name": "python",
   "nbconvert_exporter": "python",
   "pygments_lexer": "ipython3",
   "version": "3.10.1"
  }
 },
 "nbformat": 4,
 "nbformat_minor": 5
}
