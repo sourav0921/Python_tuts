{
 "cells": [
  {
   "cell_type": "code",
   "execution_count": 1,
   "id": "2e51c0f2",
   "metadata": {},
   "outputs": [],
   "source": [
    "S=\"Python\""
   ]
  },
  {
   "cell_type": "code",
   "execution_count": 2,
   "id": "9b1a2489",
   "metadata": {},
   "outputs": [
    {
     "data": {
      "text/plain": [
       "'P'"
      ]
     },
     "execution_count": 2,
     "metadata": {},
     "output_type": "execute_result"
    }
   ],
   "source": [
    "S[0]"
   ]
  },
  {
   "cell_type": "code",
   "execution_count": 3,
   "id": "8c47cad6",
   "metadata": {},
   "outputs": [
    {
     "data": {
      "text/plain": [
       "'t'"
      ]
     },
     "execution_count": 3,
     "metadata": {},
     "output_type": "execute_result"
    }
   ],
   "source": [
    "S[2:3]"
   ]
  },
  {
   "cell_type": "code",
   "execution_count": 4,
   "id": "a689162b",
   "metadata": {},
   "outputs": [
    {
     "data": {
      "text/plain": [
       "'yt'"
      ]
     },
     "execution_count": 4,
     "metadata": {},
     "output_type": "execute_result"
    }
   ],
   "source": [
    "S[1:3]"
   ]
  },
  {
   "cell_type": "code",
   "execution_count": 5,
   "id": "f9d1a60e",
   "metadata": {},
   "outputs": [
    {
     "data": {
      "text/plain": [
       "'Pyt'"
      ]
     },
     "execution_count": 5,
     "metadata": {},
     "output_type": "execute_result"
    }
   ],
   "source": [
    "S[:3]"
   ]
  },
  {
   "cell_type": "code",
   "execution_count": 6,
   "id": "fcba059f",
   "metadata": {},
   "outputs": [
    {
     "data": {
      "text/plain": [
       "'PythonPythonPython'"
      ]
     },
     "execution_count": 6,
     "metadata": {},
     "output_type": "execute_result"
    }
   ],
   "source": [
    "3*S"
   ]
  },
  {
   "cell_type": "code",
   "execution_count": 7,
   "id": "d3bd1b25",
   "metadata": {},
   "outputs": [],
   "source": [
    "name=\"Sourav\""
   ]
  },
  {
   "cell_type": "code",
   "execution_count": 8,
   "id": "11b9030a",
   "metadata": {},
   "outputs": [
    {
     "data": {
      "text/plain": [
       "'Gourav'"
      ]
     },
     "execution_count": 8,
     "metadata": {},
     "output_type": "execute_result"
    }
   ],
   "source": [
    "name.replace(\"S\",\"G\")"
   ]
  },
  {
   "cell_type": "code",
   "execution_count": 9,
   "id": "76de6e3e",
   "metadata": {},
   "outputs": [
    {
     "data": {
      "text/plain": [
       "'Sourav'"
      ]
     },
     "execution_count": 9,
     "metadata": {},
     "output_type": "execute_result"
    }
   ],
   "source": [
    "name"
   ]
  },
  {
   "cell_type": "code",
   "execution_count": 10,
   "id": "b1e797a6",
   "metadata": {},
   "outputs": [],
   "source": [
    "new_name=name.replace(\"S\",\"G\")"
   ]
  },
  {
   "cell_type": "code",
   "execution_count": 11,
   "id": "d2c67c1f",
   "metadata": {},
   "outputs": [
    {
     "data": {
      "text/plain": [
       "'Gourav'"
      ]
     },
     "execution_count": 11,
     "metadata": {},
     "output_type": "execute_result"
    }
   ],
   "source": [
    "new_name"
   ]
  },
  {
   "cell_type": "code",
   "execution_count": 12,
   "id": "1a9c5365",
   "metadata": {},
   "outputs": [
    {
     "data": {
      "text/plain": [
       "'Sourav'"
      ]
     },
     "execution_count": 12,
     "metadata": {},
     "output_type": "execute_result"
    }
   ],
   "source": [
    "name"
   ]
  },
  {
   "cell_type": "code",
   "execution_count": 13,
   "id": "c4557bae",
   "metadata": {},
   "outputs": [
    {
     "data": {
      "text/plain": [
       "['Sourav']"
      ]
     },
     "execution_count": 13,
     "metadata": {},
     "output_type": "execute_result"
    }
   ],
   "source": [
    "name.split()"
   ]
  },
  {
   "cell_type": "code",
   "execution_count": 14,
   "id": "53efcf17",
   "metadata": {},
   "outputs": [
    {
     "ename": "ValueError",
     "evalue": "empty separator",
     "output_type": "error",
     "traceback": [
      "\u001b[1;31m---------------------------------------------------------------------------\u001b[0m",
      "\u001b[1;31mValueError\u001b[0m                                Traceback (most recent call last)",
      "\u001b[1;32m~\\AppData\\Local\\Temp/ipykernel_8232/1094243562.py\u001b[0m in \u001b[0;36m<module>\u001b[1;34m\u001b[0m\n\u001b[1;32m----> 1\u001b[1;33m \u001b[0mkk\u001b[0m\u001b[1;33m=\u001b[0m\u001b[0mname\u001b[0m\u001b[1;33m.\u001b[0m\u001b[0msplit\u001b[0m\u001b[1;33m(\u001b[0m\u001b[1;34m\"\"\u001b[0m\u001b[1;33m)\u001b[0m\u001b[1;33m\u001b[0m\u001b[1;33m\u001b[0m\u001b[0m\n\u001b[0m",
      "\u001b[1;31mValueError\u001b[0m: empty separator"
     ]
    }
   ],
   "source": [
    "kk=name.split(\"\")"
   ]
  },
  {
   "cell_type": "code",
   "execution_count": 15,
   "id": "288f69d5",
   "metadata": {},
   "outputs": [],
   "source": [
    "kk=name.split(\" \")"
   ]
  },
  {
   "cell_type": "code",
   "execution_count": 16,
   "id": "9c86e925",
   "metadata": {},
   "outputs": [
    {
     "data": {
      "text/plain": [
       "['Sourav']"
      ]
     },
     "execution_count": 16,
     "metadata": {},
     "output_type": "execute_result"
    }
   ],
   "source": [
    "kk"
   ]
  },
  {
   "cell_type": "code",
   "execution_count": 17,
   "id": "67c8f8e5",
   "metadata": {},
   "outputs": [],
   "source": [
    "kk=name.split(\",\")"
   ]
  },
  {
   "cell_type": "code",
   "execution_count": 18,
   "id": "d59940a6",
   "metadata": {},
   "outputs": [
    {
     "data": {
      "text/plain": [
       "['Sourav']"
      ]
     },
     "execution_count": 18,
     "metadata": {},
     "output_type": "execute_result"
    }
   ],
   "source": [
    "kk"
   ]
  },
  {
   "cell_type": "code",
   "execution_count": 19,
   "id": "791047dc",
   "metadata": {},
   "outputs": [],
   "source": [
    "name=\"Sourav Ganguli\""
   ]
  },
  {
   "cell_type": "code",
   "execution_count": 20,
   "id": "04162fa3",
   "metadata": {},
   "outputs": [],
   "source": [
    "kk=name.split(\" \")"
   ]
  },
  {
   "cell_type": "code",
   "execution_count": 21,
   "id": "77f5dbe4",
   "metadata": {},
   "outputs": [
    {
     "data": {
      "text/plain": [
       "['Sourav', 'Ganguli']"
      ]
     },
     "execution_count": 21,
     "metadata": {},
     "output_type": "execute_result"
    }
   ],
   "source": [
    "kk"
   ]
  },
  {
   "cell_type": "code",
   "execution_count": 22,
   "id": "807dfaa1",
   "metadata": {},
   "outputs": [
    {
     "data": {
      "text/plain": [
       "'Sourav'"
      ]
     },
     "execution_count": 22,
     "metadata": {},
     "output_type": "execute_result"
    }
   ],
   "source": [
    "kk[0]"
   ]
  },
  {
   "cell_type": "code",
   "execution_count": 23,
   "id": "2938fae0",
   "metadata": {},
   "outputs": [
    {
     "data": {
      "text/plain": [
       "'Ganguli'"
      ]
     },
     "execution_count": 23,
     "metadata": {},
     "output_type": "execute_result"
    }
   ],
   "source": [
    "kk[1]"
   ]
  },
  {
   "cell_type": "code",
   "execution_count": 24,
   "id": "c9f7c55b",
   "metadata": {},
   "outputs": [
    {
     "ename": "AttributeError",
     "evalue": "'list' object has no attribute 'upper'",
     "output_type": "error",
     "traceback": [
      "\u001b[1;31m---------------------------------------------------------------------------\u001b[0m",
      "\u001b[1;31mAttributeError\u001b[0m                            Traceback (most recent call last)",
      "\u001b[1;32m~\\AppData\\Local\\Temp/ipykernel_8232/1172637447.py\u001b[0m in \u001b[0;36m<module>\u001b[1;34m\u001b[0m\n\u001b[1;32m----> 1\u001b[1;33m \u001b[0mKK\u001b[0m\u001b[1;33m=\u001b[0m\u001b[0mkk\u001b[0m\u001b[1;33m.\u001b[0m\u001b[0mupper\u001b[0m\u001b[1;33m(\u001b[0m\u001b[1;33m)\u001b[0m\u001b[1;33m\u001b[0m\u001b[1;33m\u001b[0m\u001b[0m\n\u001b[0m",
      "\u001b[1;31mAttributeError\u001b[0m: 'list' object has no attribute 'upper'"
     ]
    }
   ],
   "source": [
    "KK=kk.upper()"
   ]
  },
  {
   "cell_type": "code",
   "execution_count": 25,
   "id": "f04bc382",
   "metadata": {},
   "outputs": [],
   "source": [
    "KK=kk[0].upper()"
   ]
  },
  {
   "cell_type": "code",
   "execution_count": 26,
   "id": "960d0c4d",
   "metadata": {},
   "outputs": [
    {
     "data": {
      "text/plain": [
       "'SOURAV'"
      ]
     },
     "execution_count": 26,
     "metadata": {},
     "output_type": "execute_result"
    }
   ],
   "source": [
    "KK"
   ]
  },
  {
   "cell_type": "code",
   "execution_count": null,
   "id": "efe0799d",
   "metadata": {},
   "outputs": [],
   "source": []
  }
 ],
 "metadata": {
  "kernelspec": {
   "display_name": "Python 3 (ipykernel)",
   "language": "python",
   "name": "python3"
  },
  "language_info": {
   "codemirror_mode": {
    "name": "ipython",
    "version": 3
   },
   "file_extension": ".py",
   "mimetype": "text/x-python",
   "name": "python",
   "nbconvert_exporter": "python",
   "pygments_lexer": "ipython3",
   "version": "3.10.1"
  }
 },
 "nbformat": 4,
 "nbformat_minor": 5
}
