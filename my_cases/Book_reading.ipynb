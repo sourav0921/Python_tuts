{
 "cells": [
  {
   "cell_type": "code",
   "execution_count": 27,
   "id": "fad6aca9",
   "metadata": {},
   "outputs": [],
   "source": [
    "def read_book(book_path):\n",
    "    with open(book_path,\"r\",encoding=\"utf8\") as text:\n",
    "        file=text.read()\n",
    "        file=file.replace(\"\\n\",\"\").replace(\"\\r\",\"\")\n",
    "    return file"
   ]
  },
  {
   "cell_type": "code",
   "execution_count": 25,
   "id": "75e6b939",
   "metadata": {},
   "outputs": [],
   "source": [
    "book=open(\"book.txt\",\"r\")"
   ]
  },
  {
   "cell_type": "code",
   "execution_count": 28,
   "id": "aa0373a6",
   "metadata": {},
   "outputs": [],
   "source": [
    "book=read_book(\"book.txt\")"
   ]
  },
  {
   "cell_type": "code",
   "execution_count": 35,
   "id": "99a57297",
   "metadata": {},
   "outputs": [
    {
     "data": {
      "text/plain": [
       "'relaxation test, the stresses in the spring C relax through the damper Dand conv'"
      ]
     },
     "execution_count": 35,
     "metadata": {},
     "output_type": "execute_result"
    }
   ],
   "source": [
    "book[200:280]"
   ]
  },
  {
   "cell_type": "code",
   "execution_count": 34,
   "id": "9567f830",
   "metadata": {},
   "outputs": [
    {
     "data": {
      "text/plain": [
       "293"
      ]
     },
     "execution_count": 34,
     "metadata": {},
     "output_type": "execute_result"
    }
   ],
   "source": [
    "len(book)"
   ]
  },
  {
   "cell_type": "code",
   "execution_count": null,
   "id": "573cca78",
   "metadata": {},
   "outputs": [],
   "source": []
  }
 ],
 "metadata": {
  "kernelspec": {
   "display_name": "Python 3 (ipykernel)",
   "language": "python",
   "name": "python3"
  },
  "language_info": {
   "codemirror_mode": {
    "name": "ipython",
    "version": 3
   },
   "file_extension": ".py",
   "mimetype": "text/x-python",
   "name": "python",
   "nbconvert_exporter": "python",
   "pygments_lexer": "ipython3",
   "version": "3.10.1"
  }
 },
 "nbformat": 4,
 "nbformat_minor": 5
}
