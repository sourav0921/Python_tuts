{
 "cells": [
  {
   "cell_type": "code",
   "execution_count": 1,
   "id": "648bad1f",
   "metadata": {},
   "outputs": [],
   "source": [
    "age={}"
   ]
  },
  {
   "cell_type": "code",
   "execution_count": 2,
   "id": "d2f576b7",
   "metadata": {},
   "outputs": [
    {
     "data": {
      "text/plain": [
       "dict"
      ]
     },
     "execution_count": 2,
     "metadata": {},
     "output_type": "execute_result"
    }
   ],
   "source": [
    "type(age)"
   ]
  },
  {
   "cell_type": "code",
   "execution_count": 3,
   "id": "a493210b",
   "metadata": {},
   "outputs": [],
   "source": [
    "age=dict()"
   ]
  },
  {
   "cell_type": "code",
   "execution_count": 4,
   "id": "bb6a390f",
   "metadata": {},
   "outputs": [
    {
     "data": {
      "text/plain": [
       "dict"
      ]
     },
     "execution_count": 4,
     "metadata": {},
     "output_type": "execute_result"
    }
   ],
   "source": [
    "type(age)"
   ]
  },
  {
   "cell_type": "code",
   "execution_count": 5,
   "id": "70506201",
   "metadata": {},
   "outputs": [],
   "source": [
    "age={\"Sourav\":32,\"Paban\":31,\"Bhim\":30,\"Sayandip\":29}"
   ]
  },
  {
   "cell_type": "code",
   "execution_count": 6,
   "id": "6f03837f",
   "metadata": {},
   "outputs": [
    {
     "data": {
      "text/plain": [
       "{'Sourav': 32, 'Paban': 31, 'Bhim': 30, 'Sayandip': 29}"
      ]
     },
     "execution_count": 6,
     "metadata": {},
     "output_type": "execute_result"
    }
   ],
   "source": [
    "age"
   ]
  },
  {
   "cell_type": "code",
   "execution_count": 7,
   "id": "eefb75b5",
   "metadata": {},
   "outputs": [
    {
     "ename": "AttributeError",
     "evalue": "'dict' object has no attribute 'key'",
     "output_type": "error",
     "traceback": [
      "\u001b[1;31m---------------------------------------------------------------------------\u001b[0m",
      "\u001b[1;31mAttributeError\u001b[0m                            Traceback (most recent call last)",
      "\u001b[1;32m~\\AppData\\Local\\Temp/ipykernel_6188/4021962325.py\u001b[0m in \u001b[0;36m<module>\u001b[1;34m\u001b[0m\n\u001b[1;32m----> 1\u001b[1;33m \u001b[0mage\u001b[0m\u001b[1;33m.\u001b[0m\u001b[0mkey\u001b[0m\u001b[1;33m(\u001b[0m\u001b[1;33m)\u001b[0m\u001b[1;33m\u001b[0m\u001b[1;33m\u001b[0m\u001b[0m\n\u001b[0m",
      "\u001b[1;31mAttributeError\u001b[0m: 'dict' object has no attribute 'key'"
     ]
    }
   ],
   "source": [
    "age.key()"
   ]
  },
  {
   "cell_type": "code",
   "execution_count": 8,
   "id": "87c8079e",
   "metadata": {},
   "outputs": [
    {
     "data": {
      "text/plain": [
       "dict_keys(['Sourav', 'Paban', 'Bhim', 'Sayandip'])"
      ]
     },
     "execution_count": 8,
     "metadata": {},
     "output_type": "execute_result"
    }
   ],
   "source": [
    "age.keys()"
   ]
  },
  {
   "cell_type": "code",
   "execution_count": 9,
   "id": "5fee6982",
   "metadata": {},
   "outputs": [
    {
     "data": {
      "text/plain": [
       "dict_values([32, 31, 30, 29])"
      ]
     },
     "execution_count": 9,
     "metadata": {},
     "output_type": "execute_result"
    }
   ],
   "source": [
    "age.values()"
   ]
  },
  {
   "cell_type": "code",
   "execution_count": 10,
   "id": "eeec09cc",
   "metadata": {},
   "outputs": [
    {
     "data": {
      "text/plain": [
       "32"
      ]
     },
     "execution_count": 10,
     "metadata": {},
     "output_type": "execute_result"
    }
   ],
   "source": [
    "age[\"Sourav\"]"
   ]
  },
  {
   "cell_type": "code",
   "execution_count": 11,
   "id": "031cb923",
   "metadata": {},
   "outputs": [],
   "source": [
    "age[\"Sourav\"]=age[\"Sourav\"]+1"
   ]
  },
  {
   "cell_type": "code",
   "execution_count": 12,
   "id": "32c564c5",
   "metadata": {},
   "outputs": [
    {
     "data": {
      "text/plain": [
       "33"
      ]
     },
     "execution_count": 12,
     "metadata": {},
     "output_type": "execute_result"
    }
   ],
   "source": [
    "age[\"Sourav\"]"
   ]
  },
  {
   "cell_type": "code",
   "execution_count": 13,
   "id": "9da1db7e",
   "metadata": {},
   "outputs": [],
   "source": [
    "age[\"Sourav\"]-=1"
   ]
  },
  {
   "cell_type": "code",
   "execution_count": 14,
   "id": "534bf68f",
   "metadata": {},
   "outputs": [
    {
     "data": {
      "text/plain": [
       "32"
      ]
     },
     "execution_count": 14,
     "metadata": {},
     "output_type": "execute_result"
    }
   ],
   "source": [
    "age[\"Sourav\"]"
   ]
  },
  {
   "cell_type": "code",
   "execution_count": 15,
   "id": "c3361a18",
   "metadata": {},
   "outputs": [],
   "source": [
    "age[\"Subhra\"]=34"
   ]
  },
  {
   "cell_type": "code",
   "execution_count": 16,
   "id": "96a92c75",
   "metadata": {},
   "outputs": [
    {
     "data": {
      "text/plain": [
       "{'Sourav': 32, 'Paban': 31, 'Bhim': 30, 'Sayandip': 29, 'Subhra': 34}"
      ]
     },
     "execution_count": 16,
     "metadata": {},
     "output_type": "execute_result"
    }
   ],
   "source": [
    "age"
   ]
  },
  {
   "cell_type": "code",
   "execution_count": 17,
   "id": "b052e23a",
   "metadata": {},
   "outputs": [],
   "source": [
    "name=age.keys()"
   ]
  },
  {
   "cell_type": "code",
   "execution_count": 18,
   "id": "956d590e",
   "metadata": {},
   "outputs": [
    {
     "data": {
      "text/plain": [
       "dict_keys(['Sourav', 'Paban', 'Bhim', 'Sayandip', 'Subhra'])"
      ]
     },
     "execution_count": 18,
     "metadata": {},
     "output_type": "execute_result"
    }
   ],
   "source": [
    "name"
   ]
  },
  {
   "cell_type": "code",
   "execution_count": 19,
   "id": "29e2bb5e",
   "metadata": {},
   "outputs": [
    {
     "ename": "SyntaxError",
     "evalue": "invalid syntax (Temp/ipykernel_6188/1230897961.py, line 1)",
     "output_type": "error",
     "traceback": [
      "\u001b[1;36m  File \u001b[1;32m\"C:\\Users\\sourav\\AppData\\Local\\Temp/ipykernel_6188/1230897961.py\"\u001b[1;36m, line \u001b[1;32m1\u001b[0m\n\u001b[1;33m    age=[\"Tanuj\":28]\u001b[0m\n\u001b[1;37m                ^\u001b[0m\n\u001b[1;31mSyntaxError\u001b[0m\u001b[1;31m:\u001b[0m invalid syntax\n"
     ]
    }
   ],
   "source": [
    "age=[\"Tanuj\":28]"
   ]
  },
  {
   "cell_type": "code",
   "execution_count": 20,
   "id": "a9909ace",
   "metadata": {},
   "outputs": [],
   "source": [
    "age[\"Tanuj\"]=28"
   ]
  },
  {
   "cell_type": "code",
   "execution_count": 22,
   "id": "ca295977",
   "metadata": {},
   "outputs": [
    {
     "data": {
      "text/plain": [
       "dict_keys(['Sourav', 'Paban', 'Bhim', 'Sayandip', 'Subhra', 'Tanuj'])"
      ]
     },
     "execution_count": 22,
     "metadata": {},
     "output_type": "execute_result"
    }
   ],
   "source": [
    "name\n",
    "#automatically updated"
   ]
  },
  {
   "cell_type": "code",
   "execution_count": 23,
   "id": "779c9393",
   "metadata": {},
   "outputs": [
    {
     "ename": "NameError",
     "evalue": "name 'Tanuj' is not defined",
     "output_type": "error",
     "traceback": [
      "\u001b[1;31m---------------------------------------------------------------------------\u001b[0m",
      "\u001b[1;31mNameError\u001b[0m                                 Traceback (most recent call last)",
      "\u001b[1;32m~\\AppData\\Local\\Temp/ipykernel_6188/3954347043.py\u001b[0m in \u001b[0;36m<module>\u001b[1;34m\u001b[0m\n\u001b[1;32m----> 1\u001b[1;33m \u001b[0mTanuj\u001b[0m \u001b[1;32min\u001b[0m \u001b[0mage\u001b[0m\u001b[1;33m\u001b[0m\u001b[1;33m\u001b[0m\u001b[0m\n\u001b[0m",
      "\u001b[1;31mNameError\u001b[0m: name 'Tanuj' is not defined"
     ]
    }
   ],
   "source": [
    "Tanuj in age"
   ]
  },
  {
   "cell_type": "code",
   "execution_count": 24,
   "id": "0382dd18",
   "metadata": {},
   "outputs": [
    {
     "data": {
      "text/plain": [
       "True"
      ]
     },
     "execution_count": 24,
     "metadata": {},
     "output_type": "execute_result"
    }
   ],
   "source": [
    "\"Tanuj\" in age"
   ]
  },
  {
   "cell_type": "code",
   "execution_count": 25,
   "id": "acda5c26",
   "metadata": {},
   "outputs": [
    {
     "data": {
      "text/plain": [
       "False"
      ]
     },
     "execution_count": 25,
     "metadata": {},
     "output_type": "execute_result"
    }
   ],
   "source": [
    "\"Hati\" in age"
   ]
  },
  {
   "cell_type": "code",
   "execution_count": null,
   "id": "b0086563",
   "metadata": {},
   "outputs": [],
   "source": []
  }
 ],
 "metadata": {
  "kernelspec": {
   "display_name": "Python 3 (ipykernel)",
   "language": "python",
   "name": "python3"
  },
  "language_info": {
   "codemirror_mode": {
    "name": "ipython",
    "version": 3
   },
   "file_extension": ".py",
   "mimetype": "text/x-python",
   "name": "python",
   "nbconvert_exporter": "python",
   "pygments_lexer": "ipython3",
   "version": "3.10.1"
  }
 },
 "nbformat": 4,
 "nbformat_minor": 5
}
