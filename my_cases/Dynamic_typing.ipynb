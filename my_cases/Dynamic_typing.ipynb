{
 "cells": [
  {
   "cell_type": "code",
   "execution_count": 1,
   "id": "c1b7957f",
   "metadata": {},
   "outputs": [],
   "source": [
    "M=[2,3,4]"
   ]
  },
  {
   "cell_type": "code",
   "execution_count": 2,
   "id": "d2d1c0ba",
   "metadata": {},
   "outputs": [],
   "source": [
    "N=[2,3,4]"
   ]
  },
  {
   "cell_type": "code",
   "execution_count": 3,
   "id": "0ddd5a56",
   "metadata": {},
   "outputs": [
    {
     "data": {
      "text/plain": [
       "True"
      ]
     },
     "execution_count": 3,
     "metadata": {},
     "output_type": "execute_result"
    }
   ],
   "source": [
    "M==N"
   ]
  },
  {
   "cell_type": "code",
   "execution_count": 4,
   "id": "13ebd2e8",
   "metadata": {},
   "outputs": [
    {
     "data": {
      "text/plain": [
       "False"
      ]
     },
     "execution_count": 4,
     "metadata": {},
     "output_type": "execute_result"
    }
   ],
   "source": [
    "M is N"
   ]
  },
  {
   "cell_type": "code",
   "execution_count": 5,
   "id": "62b35212",
   "metadata": {},
   "outputs": [
    {
     "ename": "SyntaxError",
     "evalue": "invalid syntax (Temp/ipykernel_12136/922600554.py, line 1)",
     "output_type": "error",
     "traceback": [
      "\u001b[1;36m  File \u001b[1;32m\"C:\\Users\\sourav\\AppData\\Local\\Temp/ipykernel_12136/922600554.py\"\u001b[1;36m, line \u001b[1;32m1\u001b[0m\n\u001b[1;33m    id(M|)\u001b[0m\n\u001b[1;37m         ^\u001b[0m\n\u001b[1;31mSyntaxError\u001b[0m\u001b[1;31m:\u001b[0m invalid syntax\n"
     ]
    }
   ],
   "source": [
    "id(M|)"
   ]
  },
  {
   "cell_type": "code",
   "execution_count": 6,
   "id": "b04bad5a",
   "metadata": {},
   "outputs": [
    {
     "data": {
      "text/plain": [
       "1958178929408"
      ]
     },
     "execution_count": 6,
     "metadata": {},
     "output_type": "execute_result"
    }
   ],
   "source": [
    "id(M)"
   ]
  },
  {
   "cell_type": "code",
   "execution_count": 7,
   "id": "8e334cb9",
   "metadata": {},
   "outputs": [
    {
     "data": {
      "text/plain": [
       "1958178947264"
      ]
     },
     "execution_count": 7,
     "metadata": {},
     "output_type": "execute_result"
    }
   ],
   "source": [
    "id(N)"
   ]
  },
  {
   "cell_type": "code",
   "execution_count": 8,
   "id": "b56c5dc9",
   "metadata": {},
   "outputs": [],
   "source": [
    "A=[2,4,5]"
   ]
  },
  {
   "cell_type": "code",
   "execution_count": 9,
   "id": "f8f7d0a0",
   "metadata": {},
   "outputs": [],
   "source": [
    "#Refer object of A to B\n",
    "B=A"
   ]
  },
  {
   "cell_type": "code",
   "execution_count": 10,
   "id": "1685f5bb",
   "metadata": {},
   "outputs": [
    {
     "data": {
      "text/plain": [
       "[2, 4, 5]"
      ]
     },
     "execution_count": 10,
     "metadata": {},
     "output_type": "execute_result"
    }
   ],
   "source": [
    "B"
   ]
  },
  {
   "cell_type": "code",
   "execution_count": 11,
   "id": "1e3586b0",
   "metadata": {},
   "outputs": [],
   "source": [
    "A[0]=24"
   ]
  },
  {
   "cell_type": "code",
   "execution_count": 12,
   "id": "50967d00",
   "metadata": {},
   "outputs": [
    {
     "data": {
      "text/plain": [
       "[24, 4, 5]"
      ]
     },
     "execution_count": 12,
     "metadata": {},
     "output_type": "execute_result"
    }
   ],
   "source": [
    "B"
   ]
  },
  {
   "cell_type": "code",
   "execution_count": 13,
   "id": "dcb3e54b",
   "metadata": {},
   "outputs": [
    {
     "ename": "SyntaxError",
     "evalue": "invalid syntax (Temp/ipykernel_12136/2012557930.py, line 1)",
     "output_type": "error",
     "traceback": [
      "\u001b[1;36m  File \u001b[1;32m\"C:\\Users\\sourav\\AppData\\Local\\Temp/ipykernel_12136/2012557930.py\"\u001b[1;36m, line \u001b[1;32m1\u001b[0m\n\u001b[1;33m    B=list(A|)\u001b[0m\n\u001b[1;37m             ^\u001b[0m\n\u001b[1;31mSyntaxError\u001b[0m\u001b[1;31m:\u001b[0m invalid syntax\n"
     ]
    }
   ],
   "source": [
    "B=list(A|)"
   ]
  },
  {
   "cell_type": "code",
   "execution_count": 14,
   "id": "0d8e5d87",
   "metadata": {},
   "outputs": [],
   "source": [
    "#Create a completely new list\n",
    "B=list(A)"
   ]
  },
  {
   "cell_type": "code",
   "execution_count": 15,
   "id": "3552b38a",
   "metadata": {},
   "outputs": [],
   "source": [
    "A[0]=11"
   ]
  },
  {
   "cell_type": "code",
   "execution_count": 16,
   "id": "589917e5",
   "metadata": {},
   "outputs": [
    {
     "data": {
      "text/plain": [
       "[24, 4, 5]"
      ]
     },
     "execution_count": 16,
     "metadata": {},
     "output_type": "execute_result"
    }
   ],
   "source": [
    "B"
   ]
  },
  {
   "cell_type": "code",
   "execution_count": 17,
   "id": "b27c6bdc",
   "metadata": {},
   "outputs": [
    {
     "data": {
      "text/plain": [
       "[11, 4, 5]"
      ]
     },
     "execution_count": 17,
     "metadata": {},
     "output_type": "execute_result"
    }
   ],
   "source": [
    "A"
   ]
  },
  {
   "cell_type": "code",
   "execution_count": 18,
   "id": "a51c8e5c",
   "metadata": {},
   "outputs": [],
   "source": [
    "#Another way to create new list\n",
    "M=N[:]"
   ]
  },
  {
   "cell_type": "code",
   "execution_count": 19,
   "id": "e8f24a3a",
   "metadata": {},
   "outputs": [
    {
     "data": {
      "text/plain": [
       "False"
      ]
     },
     "execution_count": 19,
     "metadata": {},
     "output_type": "execute_result"
    }
   ],
   "source": [
    "M is N"
   ]
  },
  {
   "cell_type": "code",
   "execution_count": null,
   "id": "8915c35d",
   "metadata": {},
   "outputs": [],
   "source": []
  }
 ],
 "metadata": {
  "kernelspec": {
   "display_name": "Python 3 (ipykernel)",
   "language": "python",
   "name": "python3"
  },
  "language_info": {
   "codemirror_mode": {
    "name": "ipython",
    "version": 3
   },
   "file_extension": ".py",
   "mimetype": "text/x-python",
   "name": "python",
   "nbconvert_exporter": "python",
   "pygments_lexer": "ipython3",
   "version": "3.10.1"
  }
 },
 "nbformat": 4,
 "nbformat_minor": 5
}
