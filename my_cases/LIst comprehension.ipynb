{
 "cells": [
  {
   "cell_type": "code",
   "execution_count": 1,
   "id": "57aaa97c",
   "metadata": {},
   "outputs": [],
   "source": [
    "numbers=range(10)"
   ]
  },
  {
   "cell_type": "code",
   "execution_count": 2,
   "id": "3546cc29",
   "metadata": {},
   "outputs": [
    {
     "data": {
      "text/plain": [
       "range(0, 10)"
      ]
     },
     "execution_count": 2,
     "metadata": {},
     "output_type": "execute_result"
    }
   ],
   "source": [
    "numbers"
   ]
  },
  {
   "cell_type": "code",
   "execution_count": 3,
   "id": "b3e08034",
   "metadata": {},
   "outputs": [
    {
     "data": {
      "text/plain": [
       "[0, 1, 2, 3, 4, 5, 6, 7, 8, 9]"
      ]
     },
     "execution_count": 3,
     "metadata": {},
     "output_type": "execute_result"
    }
   ],
   "source": [
    "list(numbers)"
   ]
  },
  {
   "cell_type": "code",
   "execution_count": 4,
   "id": "30f459db",
   "metadata": {},
   "outputs": [],
   "source": [
    "square=[]"
   ]
  },
  {
   "cell_type": "code",
   "execution_count": 5,
   "id": "48b7549c",
   "metadata": {},
   "outputs": [],
   "source": [
    "for number in numbers:\n",
    "    square.append(number**2)"
   ]
  },
  {
   "cell_type": "code",
   "execution_count": 6,
   "id": "1bee5134",
   "metadata": {},
   "outputs": [
    {
     "data": {
      "text/plain": [
       "[0, 1, 4, 9, 16, 25, 36, 49, 64, 81]"
      ]
     },
     "execution_count": 6,
     "metadata": {},
     "output_type": "execute_result"
    }
   ],
   "source": [
    "list(square)"
   ]
  },
  {
   "cell_type": "code",
   "execution_count": 7,
   "id": "8b4181cd",
   "metadata": {},
   "outputs": [],
   "source": [
    "#Using list comprehension\n",
    "square2=[number**2 for number in numbers]"
   ]
  },
  {
   "cell_type": "code",
   "execution_count": 8,
   "id": "9e0f41e5",
   "metadata": {},
   "outputs": [
    {
     "data": {
      "text/plain": [
       "[0, 1, 4, 9, 16, 25, 36, 49, 64, 81]"
      ]
     },
     "execution_count": 8,
     "metadata": {},
     "output_type": "execute_result"
    }
   ],
   "source": [
    "list(square2)"
   ]
  },
  {
   "cell_type": "code",
   "execution_count": 12,
   "id": "c7323340",
   "metadata": {},
   "outputs": [],
   "source": [
    "#List comprehension exercise\n",
    "odd_square=[i**2 for i in range(10) if i%2!=0]"
   ]
  },
  {
   "cell_type": "code",
   "execution_count": 13,
   "id": "6475696f",
   "metadata": {},
   "outputs": [
    {
     "data": {
      "text/plain": [
       "[1, 9, 25, 49, 81]"
      ]
     },
     "execution_count": 13,
     "metadata": {},
     "output_type": "execute_result"
    }
   ],
   "source": [
    "list(odd_square)"
   ]
  },
  {
   "cell_type": "code",
   "execution_count": null,
   "id": "a788883c",
   "metadata": {},
   "outputs": [],
   "source": []
  }
 ],
 "metadata": {
  "kernelspec": {
   "display_name": "Python 3 (ipykernel)",
   "language": "python",
   "name": "python3"
  },
  "language_info": {
   "codemirror_mode": {
    "name": "ipython",
    "version": 3
   },
   "file_extension": ".py",
   "mimetype": "text/x-python",
   "name": "python",
   "nbconvert_exporter": "python",
   "pygments_lexer": "ipython3",
   "version": "3.10.1"
  }
 },
 "nbformat": 4,
 "nbformat_minor": 5
}
