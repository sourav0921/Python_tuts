{
 "cells": [
  {
   "cell_type": "code",
   "execution_count": 1,
   "id": "7fd59f5c",
   "metadata": {},
   "outputs": [],
   "source": [
    "import os"
   ]
  },
  {
   "cell_type": "code",
   "execution_count": 2,
   "id": "4dc51104",
   "metadata": {},
   "outputs": [],
   "source": [
    "book_dir=(\"./my_books\")"
   ]
  },
  {
   "cell_type": "code",
   "execution_count": 3,
   "id": "7229f95d",
   "metadata": {},
   "outputs": [
    {
     "data": {
      "text/plain": [
       "['English', 'French', 'German', 'Portuguese']"
      ]
     },
     "execution_count": 3,
     "metadata": {},
     "output_type": "execute_result"
    }
   ],
   "source": [
    "os.listdir(book_dir)"
   ]
  },
  {
   "cell_type": "code",
   "execution_count": 5,
   "id": "1df79ea4",
   "metadata": {},
   "outputs": [],
   "source": [
    "def word_count(text):\n",
    "    \"\"\"Counts the number of times the words is present in the text\"\"\"\n",
    "    dict={}\n",
    "    #Avoid puntuation and Capital latter\n",
    "    text=text.lower()\n",
    "    skip=[\".\",\",\",\":\",\"'\",'\"',\":\"]\n",
    "    for ch in skip:\n",
    "        text=text.replace(ch,\"\")\n",
    "    for word in text.split(\" \"):\n",
    "        if word in dict:\n",
    "            dict[word]+=1\n",
    "        else:\n",
    "            dict[word]=1\n",
    "    return dict"
   ]
  },
  {
   "cell_type": "code",
   "execution_count": 6,
   "id": "aa2fe7e9",
   "metadata": {},
   "outputs": [],
   "source": [
    "def read_book(book_path):\n",
    "    with open(book_path,\"r\",encoding=\"utf8\") as text:\n",
    "        file=text.read()\n",
    "        file=file.replace(\"\\n\",\"\").replace(\"\\r\",\"\")\n",
    "    return file"
   ]
  },
  {
   "cell_type": "code",
   "execution_count": 7,
   "id": "73979fb0",
   "metadata": {},
   "outputs": [],
   "source": [
    "def word_stats(word_counts):\n",
    "    num_unique=len(word_counts)\n",
    "    counts=word_counts.values()\n",
    "    return(num_unique,counts)"
   ]
  },
  {
   "cell_type": "code",
   "execution_count": 12,
   "id": "b019bc43",
   "metadata": {},
   "outputs": [
    {
     "name": "stdout",
     "output_type": "stream",
     "text": [
      "./my_books/English/shakespeare/A Midsummer Night's Dream.txt\n",
      "./my_books/English/shakespeare/Hamlet.txt\n",
      "./my_books/English/shakespeare/Macbeth.txt\n",
      "./my_books/English/shakespeare/Othello.txt\n",
      "./my_books/English/shakespeare/Richard III.txt\n",
      "./my_books/English/shakespeare/Romeo and Juliet.txt\n",
      "./my_books/English/shakespeare/The Merchant of Venice.txt\n",
      "./my_books/French/chevalier/L'åle de sable.txt\n",
      "./my_books/French/chevalier/L'enfer et le paradis de l'autre monde.txt\n",
      "./my_books/French/chevalier/La capitaine.txt\n",
      "./my_books/French/chevalier/La fille des indiens rouges.txt\n",
      "./my_books/French/chevalier/La fille du pirate.txt\n",
      "./my_books/French/chevalier/Le chasseur noir.txt\n",
      "./my_books/French/chevalier/Les derniers Iroquois.txt\n",
      "./my_books/French/de Maupassant/Boule de Suif.txt\n",
      "./my_books/French/de Maupassant/Claire de Lune.txt\n",
      "./my_books/French/de Maupassant/Contes de la Becasse.txt\n",
      "./my_books/French/de Maupassant/L'inutile beautÇ.txt\n",
      "./my_books/French/de Maupassant/La Main Gauche.txt\n",
      "./my_books/French/de Maupassant/La Maison Tellier.txt\n",
      "./my_books/French/de Maupassant/La petite roque.txt\n",
      "./my_books/French/de Maupassant/Le Horla.txt\n",
      "./my_books/French/de Maupassant/Œuvres complètes de Guy de Maupassant.txt\n",
      "./my_books/French/diderot/Ceci n'est pas un conte.txt\n",
      "./my_books/French/diderot/Entretien d'un päre avec ses enfants.txt\n",
      "./my_books/French/diderot/L'oiseau blanc.txt\n",
      "./my_books/French/diderot/Les deux amis de Bourbonne.txt\n",
      "./my_books/French/diderot/Regrets sur ma vieille robe de chambre.txt\n",
      "./my_books/French/sand/cora.txt\n",
      "./my_books/French/sand/Jacques le fataliste et son maåtre.txt\n",
      "./my_books/French/sand/L' Orco.txt\n",
      "./my_books/French/sand/La Coupe; Lupo Liverani; Le Toast; Garnier; Le Contrebandier; La Ràverie Ö Paris.txt\n",
      "./my_books/French/sand/La Marquise.txt\n",
      "./my_books/French/sand/Le Piccinino.txt\n",
      "./my_books/French/sand/Le poâme de Myrza.txt\n",
      "./my_books/French/sand/Mattea.txt\n",
      "./my_books/French/sand/Metella.txt\n",
      "./my_books/French/sand/Oeuvres illustrÇes de George Sand.txt\n",
      "./my_books/French/sand/Pauline.txt\n",
      "./my_books/German/lessing/der freigeist.txt\n",
      "./my_books/German/lessing/der junge gelehrte.txt\n",
      "./my_books/German/lessing/die juden.txt\n",
      "./my_books/German/lessing/emilia galotti.txt\n",
      "./my_books/German/lessing/hamburgische dramaturgie.txt\n",
      "./my_books/German/lessing/minna von barnhelm.txt\n",
      "./my_books/German/lessing/miss sara sampson.txt\n",
      "./my_books/German/lessing/philotas.txt\n",
      "./my_books/German/raimund/Das MÑdchen aus der Feenwelt.txt\n",
      "./my_books/German/raimund/Der Alpenkînig und der Menschenfeind.txt\n",
      "./my_books/German/raimund/Der Barometermacher auf der Zauberinsel.txt\n",
      "./my_books/German/raimund/Der Diamant des Geisterkînigs.txt\n",
      "./my_books/German/raimund/Der Verschwender.txt\n",
      "./my_books/German/raimund/Die gefesselte Phantasie.txt\n",
      "./my_books/German/raimund/Die unheilbringende Krone.txt\n",
      "./my_books/German/raimund/Moisasurs Zauberfluch.txt\n",
      "./my_books/German/schiller/Der Neffe als Onkel.txt\n",
      "./my_books/German/schiller/Der Parasit, oder die Kunst, sein GlÅck zu machen.txt\n",
      "./my_books/German/schiller/die braut von messina.txt\n",
      "./my_books/German/schiller/Die Huldigung der KÅnste.txt\n",
      "./my_books/German/schiller/Die Jungfrau von Orleans.txt\n",
      "./my_books/German/schiller/Die Piccolomini.txt\n",
      "./my_books/German/schiller/Die Verschwîrung des Fiesco zu Genua.txt\n",
      "./my_books/German/schiller/Kabale und Liebe.txt\n",
      "./my_books/German/schiller/Turandot, Prinzessin von China.txt\n",
      "./my_books/German/schiller/Wallensteins Lager.txt\n",
      "./my_books/German/schiller/Wallensteins Tod.txt\n",
      "./my_books/German/shakespeare/Der Kaufmann von Venedig.txt\n",
      "./my_books/German/shakespeare/Ein Sommernachtstraum.txt\n",
      "./my_books/German/shakespeare/Hamlet.txt\n",
      "./my_books/German/shakespeare/Macbeth.txt\n",
      "./my_books/German/shakespeare/Othello.txt\n",
      "./my_books/German/shakespeare/Richard III.txt\n",
      "./my_books/German/shakespeare/Romeo und Julia.txt\n",
      "./my_books/Portuguese/branco/A Filha do Arcediago.txt\n",
      "./my_books/Portuguese/branco/A Neta do Arcediago.txt\n",
      "./my_books/Portuguese/branco/A Queda d'um Anjo.txt\n",
      "./my_books/Portuguese/branco/Agulha em Palheiro.txt\n",
      "./my_books/Portuguese/branco/Amor de Perdição.txt\n",
      "./my_books/Portuguese/branco/Amor de Salvação.txt\n",
      "./my_books/Portuguese/branco/Annos de Prosa.txt\n",
      "./my_books/Portuguese/branco/Carlota Angela.txt\n",
      "./my_books/Portuguese/branco/Estrellas Funestas.txt\n",
      "./my_books/Portuguese/branco/Estrellas Prop°cias.txt\n",
      "./my_books/Portuguese/branco/Lagrimas Abenáoadas.txt\n",
      "./my_books/Portuguese/branco/Livro de Consolação.txt\n",
      "./my_books/Portuguese/branco/O Olho de Vidro.txt\n",
      "./my_books/Portuguese/branco/O que fazem mulheres.txt\n",
      "./my_books/Portuguese/branco/O Regicida.txt\n",
      "./my_books/Portuguese/branco/Scenas Contemporaneas.txt\n",
      "./my_books/Portuguese/dinis/A Morgadinha dos Cannaviaes.txt\n",
      "./my_books/Portuguese/dinis/Os fidalgos da Casa Mourisca.txt\n",
      "./my_books/Portuguese/dinis/Uma fam°lia ingleza.txt\n",
      "./my_books/Portuguese/Queir¢s/A Cidade e as Serras.txt\n",
      "./my_books/Portuguese/Queir¢s/A correspondància de Fradique Mendes.txt\n",
      "./my_books/Portuguese/Queir¢s/A Illustre Casa de Ramires.txt\n",
      "./my_books/Portuguese/Queir¢s/A Rel°quia.txt\n",
      "./my_books/Portuguese/Queir¢s/Cartas de Inglaterra.txt\n",
      "./my_books/Portuguese/Queir¢s/O crime do padre Amaro.txt\n",
      "./my_books/Portuguese/Queir¢s/O Mandarim.txt\n",
      "./my_books/Portuguese/Queir¢s/O Primo Bazilio.txt\n",
      "./my_books/Portuguese/Queir¢s/Os Maias.txt\n",
      "./my_books/Portuguese/shakespeare/Hamlet.txt\n"
     ]
    }
   ],
   "source": [
    "for language in os.listdir(book_dir):\n",
    "    for author in os.listdir(book_dir+\"/\"+language):\n",
    "        for title in os.listdir(book_dir+\"/\"+language+\"/\"+author):\n",
    "            input_file=book_dir+\"/\"+language+\"/\"+author+\"/\"+title\n",
    "            print(input_file)\n",
    "            text=read_book(input_file)\n",
    "            (num_unique,counts)=word_stats(word_count(text))"
   ]
  },
  {
   "cell_type": "code",
   "execution_count": 13,
   "id": "f3287e44",
   "metadata": {},
   "outputs": [],
   "source": [
    "# introduction of Pandas library"
   ]
  },
  {
   "cell_type": "code",
   "execution_count": 15,
   "id": "2b375cbe",
   "metadata": {},
   "outputs": [],
   "source": [
    "import pandas as pd"
   ]
  },
  {
   "cell_type": "code",
   "execution_count": 20,
   "id": "48c62b82",
   "metadata": {},
   "outputs": [],
   "source": [
    "table=pd.DataFrame(columns=(\"Name\",\"Age\"))"
   ]
  },
  {
   "cell_type": "code",
   "execution_count": 21,
   "id": "ec446ef9",
   "metadata": {},
   "outputs": [],
   "source": [
    "table.loc[1]=\"Sourav\",31"
   ]
  },
  {
   "cell_type": "code",
   "execution_count": 22,
   "id": "f6dd884c",
   "metadata": {},
   "outputs": [],
   "source": [
    "table.loc[2]=\"Paban\",32"
   ]
  },
  {
   "cell_type": "code",
   "execution_count": 23,
   "id": "367e0bfe",
   "metadata": {},
   "outputs": [
    {
     "data": {
      "text/html": [
       "<div>\n",
       "<style scoped>\n",
       "    .dataframe tbody tr th:only-of-type {\n",
       "        vertical-align: middle;\n",
       "    }\n",
       "\n",
       "    .dataframe tbody tr th {\n",
       "        vertical-align: top;\n",
       "    }\n",
       "\n",
       "    .dataframe thead th {\n",
       "        text-align: right;\n",
       "    }\n",
       "</style>\n",
       "<table border=\"1\" class=\"dataframe\">\n",
       "  <thead>\n",
       "    <tr style=\"text-align: right;\">\n",
       "      <th></th>\n",
       "      <th>Name</th>\n",
       "      <th>Age</th>\n",
       "    </tr>\n",
       "  </thead>\n",
       "  <tbody>\n",
       "    <tr>\n",
       "      <th>1</th>\n",
       "      <td>Sourav</td>\n",
       "      <td>31</td>\n",
       "    </tr>\n",
       "    <tr>\n",
       "      <th>2</th>\n",
       "      <td>Paban</td>\n",
       "      <td>32</td>\n",
       "    </tr>\n",
       "  </tbody>\n",
       "</table>\n",
       "</div>"
      ],
      "text/plain": [
       "     Name  Age\n",
       "1  Sourav   31\n",
       "2   Paban   32"
      ]
     },
     "execution_count": 23,
     "metadata": {},
     "output_type": "execute_result"
    }
   ],
   "source": [
    "table"
   ]
  },
  {
   "cell_type": "code",
   "execution_count": 25,
   "id": "2d842320",
   "metadata": {},
   "outputs": [
    {
     "data": {
      "text/plain": [
       "Index(['Name', 'Age'], dtype='object')"
      ]
     },
     "execution_count": 25,
     "metadata": {},
     "output_type": "execute_result"
    }
   ],
   "source": [
    "table.columns"
   ]
  },
  {
   "cell_type": "code",
   "execution_count": 33,
   "id": "593c658d",
   "metadata": {},
   "outputs": [
    {
     "name": "stdout",
     "output_type": "stream",
     "text": [
      "./my_books/English/shakespeare/A Midsummer Night's Dream.txt\n",
      "./my_books/English/shakespeare/Hamlet.txt\n",
      "./my_books/English/shakespeare/Macbeth.txt\n",
      "./my_books/English/shakespeare/Othello.txt\n",
      "./my_books/English/shakespeare/Richard III.txt\n",
      "./my_books/English/shakespeare/Romeo and Juliet.txt\n",
      "./my_books/English/shakespeare/The Merchant of Venice.txt\n",
      "./my_books/French/chevalier/L'åle de sable.txt\n",
      "./my_books/French/chevalier/L'enfer et le paradis de l'autre monde.txt\n",
      "./my_books/French/chevalier/La capitaine.txt\n",
      "./my_books/French/chevalier/La fille des indiens rouges.txt\n",
      "./my_books/French/chevalier/La fille du pirate.txt\n",
      "./my_books/French/chevalier/Le chasseur noir.txt\n",
      "./my_books/French/chevalier/Les derniers Iroquois.txt\n",
      "./my_books/French/de Maupassant/Boule de Suif.txt\n",
      "./my_books/French/de Maupassant/Claire de Lune.txt\n",
      "./my_books/French/de Maupassant/Contes de la Becasse.txt\n",
      "./my_books/French/de Maupassant/L'inutile beautÇ.txt\n",
      "./my_books/French/de Maupassant/La Main Gauche.txt\n",
      "./my_books/French/de Maupassant/La Maison Tellier.txt\n",
      "./my_books/French/de Maupassant/La petite roque.txt\n",
      "./my_books/French/de Maupassant/Le Horla.txt\n",
      "./my_books/French/de Maupassant/Œuvres complètes de Guy de Maupassant.txt\n",
      "./my_books/French/diderot/Ceci n'est pas un conte.txt\n",
      "./my_books/French/diderot/Entretien d'un päre avec ses enfants.txt\n",
      "./my_books/French/diderot/L'oiseau blanc.txt\n",
      "./my_books/French/diderot/Les deux amis de Bourbonne.txt\n",
      "./my_books/French/diderot/Regrets sur ma vieille robe de chambre.txt\n",
      "./my_books/French/sand/cora.txt\n",
      "./my_books/French/sand/Jacques le fataliste et son maåtre.txt\n",
      "./my_books/French/sand/L' Orco.txt\n",
      "./my_books/French/sand/La Coupe; Lupo Liverani; Le Toast; Garnier; Le Contrebandier; La Ràverie Ö Paris.txt\n",
      "./my_books/French/sand/La Marquise.txt\n",
      "./my_books/French/sand/Le Piccinino.txt\n",
      "./my_books/French/sand/Le poâme de Myrza.txt\n",
      "./my_books/French/sand/Mattea.txt\n",
      "./my_books/French/sand/Metella.txt\n",
      "./my_books/French/sand/Oeuvres illustrÇes de George Sand.txt\n",
      "./my_books/French/sand/Pauline.txt\n",
      "./my_books/German/lessing/der freigeist.txt\n",
      "./my_books/German/lessing/der junge gelehrte.txt\n",
      "./my_books/German/lessing/die juden.txt\n",
      "./my_books/German/lessing/emilia galotti.txt\n",
      "./my_books/German/lessing/hamburgische dramaturgie.txt\n",
      "./my_books/German/lessing/minna von barnhelm.txt\n",
      "./my_books/German/lessing/miss sara sampson.txt\n",
      "./my_books/German/lessing/philotas.txt\n",
      "./my_books/German/raimund/Das MÑdchen aus der Feenwelt.txt\n",
      "./my_books/German/raimund/Der Alpenkînig und der Menschenfeind.txt\n",
      "./my_books/German/raimund/Der Barometermacher auf der Zauberinsel.txt\n",
      "./my_books/German/raimund/Der Diamant des Geisterkînigs.txt\n",
      "./my_books/German/raimund/Der Verschwender.txt\n",
      "./my_books/German/raimund/Die gefesselte Phantasie.txt\n",
      "./my_books/German/raimund/Die unheilbringende Krone.txt\n",
      "./my_books/German/raimund/Moisasurs Zauberfluch.txt\n",
      "./my_books/German/schiller/Der Neffe als Onkel.txt\n",
      "./my_books/German/schiller/Der Parasit, oder die Kunst, sein GlÅck zu machen.txt\n",
      "./my_books/German/schiller/die braut von messina.txt\n",
      "./my_books/German/schiller/Die Huldigung der KÅnste.txt\n",
      "./my_books/German/schiller/Die Jungfrau von Orleans.txt\n",
      "./my_books/German/schiller/Die Piccolomini.txt\n",
      "./my_books/German/schiller/Die Verschwîrung des Fiesco zu Genua.txt\n",
      "./my_books/German/schiller/Kabale und Liebe.txt\n",
      "./my_books/German/schiller/Turandot, Prinzessin von China.txt\n",
      "./my_books/German/schiller/Wallensteins Lager.txt\n",
      "./my_books/German/schiller/Wallensteins Tod.txt\n",
      "./my_books/German/shakespeare/Der Kaufmann von Venedig.txt\n",
      "./my_books/German/shakespeare/Ein Sommernachtstraum.txt\n",
      "./my_books/German/shakespeare/Hamlet.txt\n",
      "./my_books/German/shakespeare/Macbeth.txt\n",
      "./my_books/German/shakespeare/Othello.txt\n",
      "./my_books/German/shakespeare/Richard III.txt\n",
      "./my_books/German/shakespeare/Romeo und Julia.txt\n",
      "./my_books/Portuguese/branco/A Filha do Arcediago.txt\n",
      "./my_books/Portuguese/branco/A Neta do Arcediago.txt\n",
      "./my_books/Portuguese/branco/A Queda d'um Anjo.txt\n",
      "./my_books/Portuguese/branco/Agulha em Palheiro.txt\n",
      "./my_books/Portuguese/branco/Amor de Perdição.txt\n",
      "./my_books/Portuguese/branco/Amor de Salvação.txt\n",
      "./my_books/Portuguese/branco/Annos de Prosa.txt\n",
      "./my_books/Portuguese/branco/Carlota Angela.txt\n",
      "./my_books/Portuguese/branco/Estrellas Funestas.txt\n",
      "./my_books/Portuguese/branco/Estrellas Prop°cias.txt\n",
      "./my_books/Portuguese/branco/Lagrimas Abenáoadas.txt\n",
      "./my_books/Portuguese/branco/Livro de Consolação.txt\n",
      "./my_books/Portuguese/branco/O Olho de Vidro.txt\n",
      "./my_books/Portuguese/branco/O que fazem mulheres.txt\n",
      "./my_books/Portuguese/branco/O Regicida.txt\n",
      "./my_books/Portuguese/branco/Scenas Contemporaneas.txt\n",
      "./my_books/Portuguese/dinis/A Morgadinha dos Cannaviaes.txt\n",
      "./my_books/Portuguese/dinis/Os fidalgos da Casa Mourisca.txt\n",
      "./my_books/Portuguese/dinis/Uma fam°lia ingleza.txt\n",
      "./my_books/Portuguese/Queir¢s/A Cidade e as Serras.txt\n",
      "./my_books/Portuguese/Queir¢s/A correspondància de Fradique Mendes.txt\n",
      "./my_books/Portuguese/Queir¢s/A Illustre Casa de Ramires.txt\n",
      "./my_books/Portuguese/Queir¢s/A Rel°quia.txt\n",
      "./my_books/Portuguese/Queir¢s/Cartas de Inglaterra.txt\n",
      "./my_books/Portuguese/Queir¢s/O crime do padre Amaro.txt\n",
      "./my_books/Portuguese/Queir¢s/O Mandarim.txt\n",
      "./my_books/Portuguese/Queir¢s/O Primo Bazilio.txt\n",
      "./my_books/Portuguese/Queir¢s/Os Maias.txt\n",
      "./my_books/Portuguese/shakespeare/Hamlet.txt\n"
     ]
    }
   ],
   "source": [
    "stats=pd.DataFrame(columns=(\"language\",\"Author\",\"Title\",\"lenght\",\"unique\"))\n",
    "num_table=1\n",
    "for language in os.listdir(book_dir):\n",
    "    for author in os.listdir(book_dir+\"/\"+language):\n",
    "        for title in os.listdir(book_dir+\"/\"+language+\"/\"+author):\n",
    "            input_file=book_dir+\"/\"+language+\"/\"+author+\"/\"+title\n",
    "            print(input_file)\n",
    "            text=read_book(input_file)\n",
    "            (num_unique,counts)=word_stats(word_count(text))\n",
    "            stats.loc[num_table]=language,author.capitalize(),title.replace(\".txt\",\"\"),sum(counts),num_unique\n",
    "            num_table+=1"
   ]
  },
  {
   "cell_type": "code",
   "execution_count": 34,
   "id": "2b929f1d",
   "metadata": {},
   "outputs": [
    {
     "data": {
      "text/html": [
       "<div>\n",
       "<style scoped>\n",
       "    .dataframe tbody tr th:only-of-type {\n",
       "        vertical-align: middle;\n",
       "    }\n",
       "\n",
       "    .dataframe tbody tr th {\n",
       "        vertical-align: top;\n",
       "    }\n",
       "\n",
       "    .dataframe thead th {\n",
       "        text-align: right;\n",
       "    }\n",
       "</style>\n",
       "<table border=\"1\" class=\"dataframe\">\n",
       "  <thead>\n",
       "    <tr style=\"text-align: right;\">\n",
       "      <th></th>\n",
       "      <th>language</th>\n",
       "      <th>Author</th>\n",
       "      <th>Title</th>\n",
       "      <th>lenght</th>\n",
       "      <th>unique</th>\n",
       "    </tr>\n",
       "  </thead>\n",
       "  <tbody>\n",
       "    <tr>\n",
       "      <th>1</th>\n",
       "      <td>English</td>\n",
       "      <td>Shakespeare</td>\n",
       "      <td>A Midsummer Night's Dream</td>\n",
       "      <td>16103</td>\n",
       "      <td>4345</td>\n",
       "    </tr>\n",
       "    <tr>\n",
       "      <th>2</th>\n",
       "      <td>English</td>\n",
       "      <td>Shakespeare</td>\n",
       "      <td>Hamlet</td>\n",
       "      <td>28551</td>\n",
       "      <td>6776</td>\n",
       "    </tr>\n",
       "    <tr>\n",
       "      <th>3</th>\n",
       "      <td>English</td>\n",
       "      <td>Shakespeare</td>\n",
       "      <td>Macbeth</td>\n",
       "      <td>16874</td>\n",
       "      <td>4780</td>\n",
       "    </tr>\n",
       "    <tr>\n",
       "      <th>4</th>\n",
       "      <td>English</td>\n",
       "      <td>Shakespeare</td>\n",
       "      <td>Othello</td>\n",
       "      <td>26590</td>\n",
       "      <td>5898</td>\n",
       "    </tr>\n",
       "    <tr>\n",
       "      <th>5</th>\n",
       "      <td>English</td>\n",
       "      <td>Shakespeare</td>\n",
       "      <td>Richard III</td>\n",
       "      <td>48315</td>\n",
       "      <td>5755</td>\n",
       "    </tr>\n",
       "    <tr>\n",
       "      <th>...</th>\n",
       "      <td>...</td>\n",
       "      <td>...</td>\n",
       "      <td>...</td>\n",
       "      <td>...</td>\n",
       "      <td>...</td>\n",
       "    </tr>\n",
       "    <tr>\n",
       "      <th>98</th>\n",
       "      <td>Portuguese</td>\n",
       "      <td>Queir¢s</td>\n",
       "      <td>O crime do padre Amaro</td>\n",
       "      <td>128630</td>\n",
       "      <td>29944</td>\n",
       "    </tr>\n",
       "    <tr>\n",
       "      <th>99</th>\n",
       "      <td>Portuguese</td>\n",
       "      <td>Queir¢s</td>\n",
       "      <td>O Mandarim</td>\n",
       "      <td>21440</td>\n",
       "      <td>7905</td>\n",
       "    </tr>\n",
       "    <tr>\n",
       "      <th>100</th>\n",
       "      <td>Portuguese</td>\n",
       "      <td>Queir¢s</td>\n",
       "      <td>O Primo Bazilio</td>\n",
       "      <td>107303</td>\n",
       "      <td>28252</td>\n",
       "    </tr>\n",
       "    <tr>\n",
       "      <th>101</th>\n",
       "      <td>Portuguese</td>\n",
       "      <td>Queir¢s</td>\n",
       "      <td>Os Maias</td>\n",
       "      <td>195771</td>\n",
       "      <td>41341</td>\n",
       "    </tr>\n",
       "    <tr>\n",
       "      <th>102</th>\n",
       "      <td>Portuguese</td>\n",
       "      <td>Shakespeare</td>\n",
       "      <td>Hamlet</td>\n",
       "      <td>30567</td>\n",
       "      <td>9917</td>\n",
       "    </tr>\n",
       "  </tbody>\n",
       "</table>\n",
       "<p>102 rows × 5 columns</p>\n",
       "</div>"
      ],
      "text/plain": [
       "       language       Author                      Title  lenght  unique\n",
       "1       English  Shakespeare  A Midsummer Night's Dream   16103    4345\n",
       "2       English  Shakespeare                     Hamlet   28551    6776\n",
       "3       English  Shakespeare                    Macbeth   16874    4780\n",
       "4       English  Shakespeare                    Othello   26590    5898\n",
       "5       English  Shakespeare                Richard III   48315    5755\n",
       "..          ...          ...                        ...     ...     ...\n",
       "98   Portuguese      Queir¢s     O crime do padre Amaro  128630   29944\n",
       "99   Portuguese      Queir¢s                 O Mandarim   21440    7905\n",
       "100  Portuguese      Queir¢s            O Primo Bazilio  107303   28252\n",
       "101  Portuguese      Queir¢s                   Os Maias  195771   41341\n",
       "102  Portuguese  Shakespeare                     Hamlet   30567    9917\n",
       "\n",
       "[102 rows x 5 columns]"
      ]
     },
     "execution_count": 34,
     "metadata": {},
     "output_type": "execute_result"
    }
   ],
   "source": [
    "stats"
   ]
  },
  {
   "cell_type": "code",
   "execution_count": 35,
   "id": "6871cff7",
   "metadata": {},
   "outputs": [
    {
     "data": {
      "text/html": [
       "<div>\n",
       "<style scoped>\n",
       "    .dataframe tbody tr th:only-of-type {\n",
       "        vertical-align: middle;\n",
       "    }\n",
       "\n",
       "    .dataframe tbody tr th {\n",
       "        vertical-align: top;\n",
       "    }\n",
       "\n",
       "    .dataframe thead th {\n",
       "        text-align: right;\n",
       "    }\n",
       "</style>\n",
       "<table border=\"1\" class=\"dataframe\">\n",
       "  <thead>\n",
       "    <tr style=\"text-align: right;\">\n",
       "      <th></th>\n",
       "      <th>language</th>\n",
       "      <th>Author</th>\n",
       "      <th>Title</th>\n",
       "      <th>lenght</th>\n",
       "      <th>unique</th>\n",
       "    </tr>\n",
       "  </thead>\n",
       "  <tbody>\n",
       "    <tr>\n",
       "      <th>1</th>\n",
       "      <td>English</td>\n",
       "      <td>Shakespeare</td>\n",
       "      <td>A Midsummer Night's Dream</td>\n",
       "      <td>16103</td>\n",
       "      <td>4345</td>\n",
       "    </tr>\n",
       "    <tr>\n",
       "      <th>2</th>\n",
       "      <td>English</td>\n",
       "      <td>Shakespeare</td>\n",
       "      <td>Hamlet</td>\n",
       "      <td>28551</td>\n",
       "      <td>6776</td>\n",
       "    </tr>\n",
       "    <tr>\n",
       "      <th>3</th>\n",
       "      <td>English</td>\n",
       "      <td>Shakespeare</td>\n",
       "      <td>Macbeth</td>\n",
       "      <td>16874</td>\n",
       "      <td>4780</td>\n",
       "    </tr>\n",
       "    <tr>\n",
       "      <th>4</th>\n",
       "      <td>English</td>\n",
       "      <td>Shakespeare</td>\n",
       "      <td>Othello</td>\n",
       "      <td>26590</td>\n",
       "      <td>5898</td>\n",
       "    </tr>\n",
       "    <tr>\n",
       "      <th>5</th>\n",
       "      <td>English</td>\n",
       "      <td>Shakespeare</td>\n",
       "      <td>Richard III</td>\n",
       "      <td>48315</td>\n",
       "      <td>5755</td>\n",
       "    </tr>\n",
       "  </tbody>\n",
       "</table>\n",
       "</div>"
      ],
      "text/plain": [
       "  language       Author                      Title  lenght  unique\n",
       "1  English  Shakespeare  A Midsummer Night's Dream   16103    4345\n",
       "2  English  Shakespeare                     Hamlet   28551    6776\n",
       "3  English  Shakespeare                    Macbeth   16874    4780\n",
       "4  English  Shakespeare                    Othello   26590    5898\n",
       "5  English  Shakespeare                Richard III   48315    5755"
      ]
     },
     "execution_count": 35,
     "metadata": {},
     "output_type": "execute_result"
    }
   ],
   "source": [
    "stats.head()"
   ]
  },
  {
   "cell_type": "code",
   "execution_count": 36,
   "id": "3e58df25",
   "metadata": {},
   "outputs": [
    {
     "data": {
      "text/html": [
       "<div>\n",
       "<style scoped>\n",
       "    .dataframe tbody tr th:only-of-type {\n",
       "        vertical-align: middle;\n",
       "    }\n",
       "\n",
       "    .dataframe tbody tr th {\n",
       "        vertical-align: top;\n",
       "    }\n",
       "\n",
       "    .dataframe thead th {\n",
       "        text-align: right;\n",
       "    }\n",
       "</style>\n",
       "<table border=\"1\" class=\"dataframe\">\n",
       "  <thead>\n",
       "    <tr style=\"text-align: right;\">\n",
       "      <th></th>\n",
       "      <th>language</th>\n",
       "      <th>Author</th>\n",
       "      <th>Title</th>\n",
       "      <th>lenght</th>\n",
       "      <th>unique</th>\n",
       "    </tr>\n",
       "  </thead>\n",
       "  <tbody>\n",
       "    <tr>\n",
       "      <th>98</th>\n",
       "      <td>Portuguese</td>\n",
       "      <td>Queir¢s</td>\n",
       "      <td>O crime do padre Amaro</td>\n",
       "      <td>128630</td>\n",
       "      <td>29944</td>\n",
       "    </tr>\n",
       "    <tr>\n",
       "      <th>99</th>\n",
       "      <td>Portuguese</td>\n",
       "      <td>Queir¢s</td>\n",
       "      <td>O Mandarim</td>\n",
       "      <td>21440</td>\n",
       "      <td>7905</td>\n",
       "    </tr>\n",
       "    <tr>\n",
       "      <th>100</th>\n",
       "      <td>Portuguese</td>\n",
       "      <td>Queir¢s</td>\n",
       "      <td>O Primo Bazilio</td>\n",
       "      <td>107303</td>\n",
       "      <td>28252</td>\n",
       "    </tr>\n",
       "    <tr>\n",
       "      <th>101</th>\n",
       "      <td>Portuguese</td>\n",
       "      <td>Queir¢s</td>\n",
       "      <td>Os Maias</td>\n",
       "      <td>195771</td>\n",
       "      <td>41341</td>\n",
       "    </tr>\n",
       "    <tr>\n",
       "      <th>102</th>\n",
       "      <td>Portuguese</td>\n",
       "      <td>Shakespeare</td>\n",
       "      <td>Hamlet</td>\n",
       "      <td>30567</td>\n",
       "      <td>9917</td>\n",
       "    </tr>\n",
       "  </tbody>\n",
       "</table>\n",
       "</div>"
      ],
      "text/plain": [
       "       language       Author                   Title  lenght  unique\n",
       "98   Portuguese      Queir¢s  O crime do padre Amaro  128630   29944\n",
       "99   Portuguese      Queir¢s              O Mandarim   21440    7905\n",
       "100  Portuguese      Queir¢s         O Primo Bazilio  107303   28252\n",
       "101  Portuguese      Queir¢s                Os Maias  195771   41341\n",
       "102  Portuguese  Shakespeare                  Hamlet   30567    9917"
      ]
     },
     "execution_count": 36,
     "metadata": {},
     "output_type": "execute_result"
    }
   ],
   "source": [
    "stats.tail()"
   ]
  },
  {
   "cell_type": "code",
   "execution_count": 37,
   "id": "0742efdd",
   "metadata": {},
   "outputs": [
    {
     "data": {
      "text/plain": [
       "1       16103\n",
       "2       28551\n",
       "3       16874\n",
       "4       26590\n",
       "5       48315\n",
       "        ...  \n",
       "98     128630\n",
       "99      21440\n",
       "100    107303\n",
       "101    195771\n",
       "102     30567\n",
       "Name: lenght, Length: 102, dtype: int64"
      ]
     },
     "execution_count": 37,
     "metadata": {},
     "output_type": "execute_result"
    }
   ],
   "source": [
    "stats.lenght"
   ]
  },
  {
   "cell_type": "code",
   "execution_count": 38,
   "id": "0ac8e14b",
   "metadata": {},
   "outputs": [
    {
     "data": {
      "text/plain": [
       "1       4345\n",
       "2       6776\n",
       "3       4780\n",
       "4       5898\n",
       "5       5755\n",
       "       ...  \n",
       "98     29944\n",
       "99      7905\n",
       "100    28252\n",
       "101    41341\n",
       "102     9917\n",
       "Name: unique, Length: 102, dtype: int64"
      ]
     },
     "execution_count": 38,
     "metadata": {},
     "output_type": "execute_result"
    }
   ],
   "source": [
    "stats.unique"
   ]
  },
  {
   "cell_type": "code",
   "execution_count": 39,
   "id": "7a917954",
   "metadata": {},
   "outputs": [],
   "source": [
    "import matplotlib.pyplot as plt"
   ]
  },
  {
   "cell_type": "code",
   "execution_count": 40,
   "id": "f4eef25e",
   "metadata": {},
   "outputs": [
    {
     "data": {
      "text/plain": [
       "[<matplotlib.lines.Line2D at 0x2af6ac2fd60>]"
      ]
     },
     "execution_count": 40,
     "metadata": {},
     "output_type": "execute_result"
    },
    {
     "data": {
      "image/png": "[encoded data removed]",
      "text/plain": [
       "<Figure size 432x288 with 1 Axes>"
      ]
     },
     "metadata": {
      "needs_background": "light"
     },
     "output_type": "display_data"
    }
   ],
   "source": [
    "plt.plot(stats.lenght,stats.unique,\"rs\")"
   ]
  },
  {
   "cell_type": "code",
   "execution_count": 41,
   "id": "1c8218c0",
   "metadata": {},
   "outputs": [
    {
     "data": {
      "text/plain": [
       "[<matplotlib.lines.Line2D at 0x2af6af334f0>]"
      ]
     },
     "execution_count": 41,
     "metadata": {},
     "output_type": "execute_result"
    },
    {
     "data": {
      "image/png": "[encoded data removed]",
      "text/plain": [
       "<Figure size 432x288 with 1 Axes>"
      ]
     },
     "metadata": {
      "needs_background": "light"
     },
     "output_type": "display_data"
    }
   ],
   "source": [
    "plt.loglog(stats.lenght,stats.unique,\"bo\")"
   ]
  },
  {
   "cell_type": "code",
   "execution_count": 46,
   "id": "79bc7b38",
   "metadata": {},
   "outputs": [
    {
     "data": {
      "image/png": "[encoded data removed]",
      "text/plain": [
       "<Figure size 720x720 with 1 Axes>"
      ]
     },
     "metadata": {
      "needs_background": "light"
     },
     "output_type": "display_data"
    }
   ],
   "source": [
    "plt.figure(figsize=(10,10))\n",
    "subset=stats[stats.language==\"English\"]\n",
    "plt.loglog(subset.lenght,subset.unique,'o',label=\"English\",color=\"crimson\")\n",
    "subset=stats[stats.language==\"French\"]\n",
    "plt.loglog(subset.lenght,subset.unique,'o',label=\"French\",color=\"violet\")\n",
    "subset=stats[stats.language==\"German\"]\n",
    "plt.loglog(subset.lenght,subset.unique,'o',label=\"German\",color=\"blue\")\n",
    "subset=stats[stats.language==\"Portuguese\"]\n",
    "plt.loglog(subset.lenght,subset.unique,'o',label=\"Portuguese\",color=\"green\")\n",
    "plt.legend()\n",
    "plt.xlabel(\"Book lenght\")\n",
    "plt.ylabel(\"Unique words\")\n",
    "plt.savefig(\"lang_plot.jpg\")"
   ]
  },
  {
   "cell_type": "code",
   "execution_count": 48,
   "id": "02e3760d",
   "metadata": {},
   "outputs": [
    {
     "data": {
      "text/plain": [
       "1       16103\n",
       "2       28551\n",
       "3       16874\n",
       "4       26590\n",
       "5       48315\n",
       "        ...  \n",
       "98     128630\n",
       "99      21440\n",
       "100    107303\n",
       "101    195771\n",
       "102     30567\n",
       "Name: lenght, Length: 102, dtype: int64"
      ]
     },
     "execution_count": 48,
     "metadata": {},
     "output_type": "execute_result"
    }
   ],
   "source": [
    "stats[\"lenght\"]"
   ]
  },
  {
   "cell_type": "code",
   "execution_count": null,
   "id": "4fcd849e",
   "metadata": {},
   "outputs": [],
   "source": []
  }
 ],
 "metadata": {
  "kernelspec": {
   "display_name": "Python 3 (ipykernel)",
   "language": "python",
   "name": "python3"
  },
  "language_info": {
   "codemirror_mode": {
    "name": "ipython",
    "version": 3
   },
   "file_extension": ".py",
   "mimetype": "text/x-python",
   "name": "python",
   "nbconvert_exporter": "python",
   "pygments_lexer": "ipython3",
   "version": "3.10.1"
  }
 },
 "nbformat": 4,
 "nbformat_minor": 5
}
