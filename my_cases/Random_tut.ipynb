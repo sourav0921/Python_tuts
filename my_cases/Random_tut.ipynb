{
 "cells": [
  {
   "cell_type": "code",
   "execution_count": 2,
   "id": "e8b179ba",
   "metadata": {},
   "outputs": [],
   "source": [
    "import random"
   ]
  },
  {
   "cell_type": "code",
   "execution_count": 5,
   "id": "3cb0f680",
   "metadata": {},
   "outputs": [
    {
     "data": {
      "text/plain": [
       "4"
      ]
     },
     "execution_count": 5,
     "metadata": {},
     "output_type": "execute_result"
    }
   ],
   "source": [
    "random.choice([1,2,3,4])"
   ]
  },
  {
   "cell_type": "code",
   "execution_count": 11,
   "id": "b3cdf783",
   "metadata": {},
   "outputs": [
    {
     "data": {
      "text/plain": [
       "51"
      ]
     },
     "execution_count": 11,
     "metadata": {},
     "output_type": "execute_result"
    }
   ],
   "source": [
    "sum(random.choice(range(10)) for i in range(10)) "
   ]
  },
  {
   "cell_type": "code",
   "execution_count": 17,
   "id": "d69c384a",
   "metadata": {},
   "outputs": [
    {
     "data": {
      "text/plain": [
       "range(1, 7)"
      ]
     },
     "execution_count": 17,
     "metadata": {},
     "output_type": "execute_result"
    }
   ],
   "source": [
    "#random choice from three dice with no of faces 6,8,10\n",
    "random.choice([range(1,7),range(1,9),range(1,11)])  #its the inner loop"
   ]
  },
  {
   "cell_type": "code",
   "execution_count": 20,
   "id": "78923c29",
   "metadata": {},
   "outputs": [
    {
     "data": {
      "text/plain": [
       "3"
      ]
     },
     "execution_count": 20,
     "metadata": {},
     "output_type": "execute_result"
    }
   ],
   "source": [
    "#total loop\n",
    "random.choice(random.choice([range(1,7),range(1,9),range(1,11)]))"
   ]
  },
  {
   "cell_type": "code",
   "execution_count": 41,
   "id": "c18d4457",
   "metadata": {},
   "outputs": [],
   "source": [
    "import matplotlib.pyplot as plt\n",
    "import numpy as np"
   ]
  },
  {
   "cell_type": "code",
   "execution_count": 47,
   "id": "430a9d33",
   "metadata": {},
   "outputs": [
    {
     "data": {
      "image/png": "[encoded data removed]",
      "text/plain": [
       "<Figure size 432x288 with 1 Axes>"
      ]
     },
     "metadata": {
      "needs_background": "light"
     },
     "output_type": "display_data"
    }
   ],
   "source": [
    "#Through a dice multiple times\n",
    "n=1000\n",
    "rolls=[]\n",
    "for i in range(n):\n",
    "    event=random.choice(range(0,7))\n",
    "    rolls.append(event)\n",
    "plt.hist(rolls,bins=np.linspace(0.5,6.5,7));"
   ]
  },
  {
   "cell_type": "code",
   "execution_count": 49,
   "id": "5e33de01",
   "metadata": {},
   "outputs": [
    {
     "data": {
      "image/png": "[encoded data removed]",
      "text/plain": [
       "<Figure size 432x288 with 1 Axes>"
      ]
     },
     "metadata": {
      "needs_background": "light"
     },
     "output_type": "display_data"
    }
   ],
   "source": [
    "n=10000000\n",
    "rolls=[]\n",
    "for i in range(n):\n",
    "    event=random.choice([1,2,3,4,5,6])\n",
    "    rolls.append(event)\n",
    "plt.hist(rolls,bins=np.linspace(0.5,6.5,7));"
   ]
  },
  {
   "cell_type": "code",
   "execution_count": 58,
   "id": "7e867d57",
   "metadata": {},
   "outputs": [
    {
     "data": {
      "image/png": "[encoded data removed]",
      "text/plain": [
       "<Figure size 432x288 with 1 Axes>"
      ]
     },
     "metadata": {
      "needs_background": "light"
     },
     "output_type": "display_data"
    }
   ],
   "source": [
    "#sum of rolling of 10 dices for n times\n",
    "n=1000000\n",
    "sum=[]\n",
    "for j in range(n):\n",
    "    y=0\n",
    "    for i in range(10):\n",
    "        event=random.choice([1,2,3,4,5,6])\n",
    "        y=y+event\n",
    "    sum.append(y)\n",
    "plt.hist(sum,bins=40);"
   ]
  },
  {
   "cell_type": "code",
   "execution_count": 59,
   "id": "8929eb7b",
   "metadata": {},
   "outputs": [
    {
     "data": {
      "text/plain": [
       "4"
      ]
     },
     "execution_count": 59,
     "metadata": {},
     "output_type": "execute_result"
    }
   ],
   "source": [
    "random.choice(list((1,2,3,4)))"
   ]
  },
  {
   "cell_type": "code",
   "execution_count": null,
   "id": "13318345",
   "metadata": {},
   "outputs": [],
   "source": []
  }
 ],
 "metadata": {
  "kernelspec": {
   "display_name": "Python 3 (ipykernel)",
   "language": "python",
   "name": "python3"
  },
  "language_info": {
   "codemirror_mode": {
    "name": "ipython",
    "version": 3
   },
   "file_extension": ".py",
   "mimetype": "text/x-python",
   "name": "python",
   "nbconvert_exporter": "python",
   "pygments_lexer": "ipython3",
   "version": "3.10.1"
  }
 },
 "nbformat": 4,
 "nbformat_minor": 5
}
