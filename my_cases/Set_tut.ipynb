{
 "cells": [
  {
   "cell_type": "code",
   "execution_count": 1,
   "id": "25fc6e41",
   "metadata": {},
   "outputs": [],
   "source": [
    "new_set=set()"
   ]
  },
  {
   "cell_type": "code",
   "execution_count": 2,
   "id": "5c63d068",
   "metadata": {},
   "outputs": [],
   "source": [
    "new_set=set([1,2,3,3,4])"
   ]
  },
  {
   "cell_type": "code",
   "execution_count": 3,
   "id": "2ba52378",
   "metadata": {},
   "outputs": [
    {
     "data": {
      "text/plain": [
       "{1, 2, 3, 4}"
      ]
     },
     "execution_count": 3,
     "metadata": {},
     "output_type": "execute_result"
    }
   ],
   "source": [
    "new_set"
   ]
  },
  {
   "cell_type": "code",
   "execution_count": 4,
   "id": "b8287c83",
   "metadata": {},
   "outputs": [
    {
     "data": {
      "text/plain": [
       "4"
      ]
     },
     "execution_count": 4,
     "metadata": {},
     "output_type": "execute_result"
    }
   ],
   "source": [
    "len(new_set)"
   ]
  },
  {
   "cell_type": "code",
   "execution_count": 5,
   "id": "43716111",
   "metadata": {},
   "outputs": [
    {
     "ename": "TypeError",
     "evalue": "unhashable type: 'list'",
     "output_type": "error",
     "traceback": [
      "\u001b[1;31m---------------------------------------------------------------------------\u001b[0m",
      "\u001b[1;31mTypeError\u001b[0m                                 Traceback (most recent call last)",
      "\u001b[1;32m~\\AppData\\Local\\Temp/ipykernel_12104/2020901118.py\u001b[0m in \u001b[0;36m<module>\u001b[1;34m\u001b[0m\n\u001b[1;32m----> 1\u001b[1;33m \u001b[0mnew_set\u001b[0m\u001b[1;33m.\u001b[0m\u001b[0madd\u001b[0m\u001b[1;33m(\u001b[0m\u001b[1;33m[\u001b[0m\u001b[1;36m10\u001b[0m\u001b[1;33m,\u001b[0m\u001b[1;36m11\u001b[0m\u001b[1;33m]\u001b[0m\u001b[1;33m)\u001b[0m\u001b[1;33m\u001b[0m\u001b[1;33m\u001b[0m\u001b[0m\n\u001b[0m",
      "\u001b[1;31mTypeError\u001b[0m: unhashable type: 'list'"
     ]
    }
   ],
   "source": [
    "new_set.add([10,11])"
   ]
  },
  {
   "cell_type": "code",
   "execution_count": 6,
   "id": "9479a25c",
   "metadata": {},
   "outputs": [
    {
     "ename": "TypeError",
     "evalue": "set.add() takes exactly one argument (2 given)",
     "output_type": "error",
     "traceback": [
      "\u001b[1;31m---------------------------------------------------------------------------\u001b[0m",
      "\u001b[1;31mTypeError\u001b[0m                                 Traceback (most recent call last)",
      "\u001b[1;32m~\\AppData\\Local\\Temp/ipykernel_12104/2566808604.py\u001b[0m in \u001b[0;36m<module>\u001b[1;34m\u001b[0m\n\u001b[1;32m----> 1\u001b[1;33m \u001b[0mnew_set\u001b[0m\u001b[1;33m.\u001b[0m\u001b[0madd\u001b[0m\u001b[1;33m(\u001b[0m\u001b[1;36m10\u001b[0m\u001b[1;33m,\u001b[0m\u001b[1;36m11\u001b[0m\u001b[1;33m)\u001b[0m\u001b[1;33m\u001b[0m\u001b[1;33m\u001b[0m\u001b[0m\n\u001b[0m",
      "\u001b[1;31mTypeError\u001b[0m: set.add() takes exactly one argument (2 given)"
     ]
    }
   ],
   "source": [
    "new_set.add(10,11)"
   ]
  },
  {
   "cell_type": "code",
   "execution_count": 7,
   "id": "72a29ed2",
   "metadata": {},
   "outputs": [],
   "source": [
    "new_set.add(10)"
   ]
  },
  {
   "cell_type": "code",
   "execution_count": 8,
   "id": "5fc08d42",
   "metadata": {},
   "outputs": [
    {
     "data": {
      "text/plain": [
       "{1, 2, 3, 4, 10}"
      ]
     },
     "execution_count": 8,
     "metadata": {},
     "output_type": "execute_result"
    }
   ],
   "source": [
    "new_set"
   ]
  },
  {
   "cell_type": "code",
   "execution_count": 9,
   "id": "1feae0b1",
   "metadata": {},
   "outputs": [],
   "source": [
    "defectives=set([2,3,4])"
   ]
  },
  {
   "cell_type": "code",
   "execution_count": 10,
   "id": "71fec4f7",
   "metadata": {},
   "outputs": [],
   "source": [
    "pure_products=new_set-defectives"
   ]
  },
  {
   "cell_type": "code",
   "execution_count": 11,
   "id": "369101f2",
   "metadata": {},
   "outputs": [
    {
     "data": {
      "text/plain": [
       "{1, 10}"
      ]
     },
     "execution_count": 11,
     "metadata": {},
     "output_type": "execute_result"
    }
   ],
   "source": [
    "pure_products"
   ]
  },
  {
   "cell_type": "code",
   "execution_count": 12,
   "id": "8b5a7dc9",
   "metadata": {},
   "outputs": [],
   "source": [
    "union=defectives|pure_products"
   ]
  },
  {
   "cell_type": "code",
   "execution_count": 13,
   "id": "13316328",
   "metadata": {},
   "outputs": [
    {
     "data": {
      "text/plain": [
       "{1, 2, 3, 4, 10}"
      ]
     },
     "execution_count": 13,
     "metadata": {},
     "output_type": "execute_result"
    }
   ],
   "source": [
    "union"
   ]
  },
  {
   "cell_type": "code",
   "execution_count": 14,
   "id": "e88b68b3",
   "metadata": {},
   "outputs": [],
   "source": [
    "intersection=new_set&set([1,5,9,4,10])"
   ]
  },
  {
   "cell_type": "code",
   "execution_count": 15,
   "id": "1ddc1eb9",
   "metadata": {},
   "outputs": [
    {
     "data": {
      "text/plain": [
       "{1, 4, 10}"
      ]
     },
     "execution_count": 15,
     "metadata": {},
     "output_type": "execute_result"
    }
   ],
   "source": [
    "intersection"
   ]
  },
  {
   "cell_type": "code",
   "execution_count": 16,
   "id": "bec5cc9e",
   "metadata": {},
   "outputs": [],
   "source": [
    "word=\"hfdkjhdfkjdshgfkjdsg\"   "
   ]
  },
  {
   "cell_type": "code",
   "execution_count": 21,
   "id": "1230d98f",
   "metadata": {},
   "outputs": [],
   "source": [
    "#to calculate the number of alphabets in the word\n",
    "\n",
    "latters=set(word)"
   ]
  },
  {
   "cell_type": "code",
   "execution_count": 22,
   "id": "54de6737",
   "metadata": {},
   "outputs": [
    {
     "data": {
      "text/plain": [
       "{'d', 'f', 'g', 'h', 'j', 'k', 's'}"
      ]
     },
     "execution_count": 22,
     "metadata": {},
     "output_type": "execute_result"
    }
   ],
   "source": [
    "latters"
   ]
  },
  {
   "cell_type": "code",
   "execution_count": 19,
   "id": "f48d0c19",
   "metadata": {},
   "outputs": [
    {
     "data": {
      "text/plain": [
       "7"
      ]
     },
     "execution_count": 19,
     "metadata": {},
     "output_type": "execute_result"
    }
   ],
   "source": [
    "len(latters)"
   ]
  },
  {
   "cell_type": "code",
   "execution_count": null,
   "id": "2f69622c",
   "metadata": {},
   "outputs": [],
   "source": []
  }
 ],
 "metadata": {
  "kernelspec": {
   "display_name": "Python 3 (ipykernel)",
   "language": "python",
   "name": "python3"
  },
  "language_info": {
   "codemirror_mode": {
    "name": "ipython",
    "version": 3
   },
   "file_extension": ".py",
   "mimetype": "text/x-python",
   "name": "python",
   "nbconvert_exporter": "python",
   "pygments_lexer": "ipython3",
   "version": "3.10.1"
  }
 },
 "nbformat": 4,
 "nbformat_minor": 5
}
