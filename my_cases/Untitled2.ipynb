{
 "cells": [
  {
   "cell_type": "code",
   "execution_count": 11,
   "id": "9f897dac",
   "metadata": {},
   "outputs": [],
   "source": [
    "inputfile=\"dna.txt\"\n",
    "f=open(inputfile,\"r\")\n",
    "seq=f.read()"
   ]
  },
  {
   "cell_type": "code",
   "execution_count": 9,
   "id": "b3c2b79a",
   "metadata": {},
   "outputs": [],
   "source": [
    "def read_seq(inputfile):\n",
    "    #\"\"\"Reads and returns the input sequence with special character removed.\"\"\"\n",
    "    with open(inputfile,\"r\") as f:\n",
    "        seq=f.read()\n",
    "    seq=seq.replace(\"\\n\", \"\")\n",
    "    seq=seq.replace(\"\\r\", \"\")\n",
    "    return seq"
   ]
  },
  {
   "cell_type": "code",
   "execution_count": 12,
   "id": "08c8bf51",
   "metadata": {},
   "outputs": [],
   "source": [
    "dna=read_seq(\"dna.txt\")"
   ]
  },
  {
   "cell_type": "code",
   "execution_count": 13,
   "id": "944466d3",
   "metadata": {},
   "outputs": [],
   "source": [
    "prt=read_seq(\"protein.txt\")"
   ]
  },
  {
   "cell_type": "code",
   "execution_count": 1,
   "id": "78c8fb15",
   "metadata": {},
   "outputs": [
    {
     "data": {
      "text/plain": [
       "' abcdefghijklmnopqrstuvwxyz'"
      ]
     },
     "execution_count": 1,
     "metadata": {},
     "output_type": "execute_result"
    }
   ],
   "source": [
    "import string\n",
    "# write your code here!\n",
    "alphabet=\" \"+string.ascii_lowercase\n",
    "alphabet"
   ]
  },
  {
   "cell_type": "code",
   "execution_count": 11,
   "id": "47569705",
   "metadata": {},
   "outputs": [
    {
     "name": "stdout",
     "output_type": "stream",
     "text": [
      "14\n"
     ]
    }
   ],
   "source": [
    "positions = {}\n",
    "index = 0\n",
    "for char in alphabet:\n",
    "    positions[char] = index\n",
    "    index += 1\n",
    "    \n",
    "positions\n",
    "print(positions['n'])"
   ]
  },
  {
   "cell_type": "code",
   "execution_count": 10,
   "id": "95752131",
   "metadata": {},
   "outputs": [
    {
     "name": "stdout",
     "output_type": "stream",
     "text": [
      "alniengsiqnlrnosqrst\n"
     ]
    }
   ],
   "source": [
    "encoding_list = []\n",
    "for char in message:\n",
    "    position = positions[char]\n",
    "    encoded_position = (position + 1) % 27\n",
    "    encoding_list.append(alphabet[encoded_position])\n",
    "encoded_message = \"\".join(encoding_list)\n",
    "\n",
    "print(encoded_message)"
   ]
  },
  {
   "cell_type": "code",
   "execution_count": null,
   "id": "b08da30c",
   "metadata": {},
   "outputs": [],
   "source": []
  },
  {
   "cell_type": "code",
   "execution_count": null,
   "id": "9d37d2f5",
   "metadata": {},
   "outputs": [],
   "source": []
  }
 ],
 "metadata": {
  "kernelspec": {
   "display_name": "Python 3 (ipykernel)",
   "language": "python",
   "name": "python3"
  },
  "language_info": {
   "codemirror_mode": {
    "name": "ipython",
    "version": 3
   },
   "file_extension": ".py",
   "mimetype": "text/x-python",
   "name": "python",
   "nbconvert_exporter": "python",
   "pygments_lexer": "ipython3",
   "version": "3.10.1"
  }
 },
 "nbformat": 4,
 "nbformat_minor": 5
}
