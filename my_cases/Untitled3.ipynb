{
 "cells": [
  {
   "cell_type": "code",
   "execution_count": 1,
   "id": "06808087",
   "metadata": {},
   "outputs": [],
   "source": [
    "import sys\n",
    "import os\n",
    "import numpy as np\n",
    "import pandas as pd"
   ]
  },
  {
   "cell_type": "code",
   "execution_count": 96,
   "id": "e1c6d33f",
   "metadata": {},
   "outputs": [
    {
     "data": {
      "text/plain": [
       "[array([[-0.55059788,  4.41113125],\n",
       "        [-0.55064612,  4.41108301]]),\n",
       " array([[-4.77130482,  3.95136591],\n",
       "        [-2.8726541 ,  5.85001663]]),\n",
       " array([[-4.12077381]])]"
      ]
     },
     "execution_count": 96,
     "metadata": {},
     "output_type": "execute_result"
    }
   ],
   "source": [
    "np.random.seed(42)\n",
    "\n",
    "NUM_FEATS = 2\n",
    "x=[5, 3]\n",
    "x=np.array(x)\n",
    "class Net(object):\n",
    "\t'''\n",
    "\t'''\n",
    "\n",
    "\tdef __init__(self, num_layers, num_units):\n",
    "\t\t'''\n",
    "\t\tInitialize the neural network.\n",
    "\t\tCreate weights and biases.\n",
    "\n",
    "\t\tHere, we have provided an example structure for the weights and biases.\n",
    "\t\tIt is a list of weight and bias matrices, in which, the\n",
    "\t\tdimensions of weights and biases are (assuming 1 input layer, 2 hidden layers, and 1 output layer):\n",
    "\t\tweights: [(NUM_FEATS, num_units), (num_units, num_units), (num_units, num_units), (num_units, 1)]\n",
    "\t\tbiases: [(num_units, 1), (num_units, 1), (num_units, 1), (num_units, 1)]\n",
    "\n",
    "\t\tPlease note that this is just an example.\n",
    "\t\tYou are free to modify or entirely ignore this initialization as per your need.\n",
    "\t\tAlso you can add more state-tracking variables that might be useful to compute\n",
    "\t\tthe gradients efficiently.\n",
    "\n",
    "\n",
    "\t\tParameters\n",
    "\t\t----------\n",
    "\t\t\tnum_layers : Number of HIDDEN layers.\n",
    "\t\t\tnum_units : Number of units in each Hidden layer.\n",
    "\t\t'''\n",
    "\t\tself.num_layers = num_layers\n",
    "\t\tself.num_units = num_units\n",
    "\n",
    "\t\tself.biases = []\n",
    "\t\tself.weights = []\n",
    "\t\tfor i in range(num_layers):\n",
    "\n",
    "\t\t\tif i==0:\n",
    "\t\t\t\t# Input layer\n",
    "\t\t\t\tself.weights.append(np.random.uniform(-1, 1, size=(NUM_FEATS, self.num_units)))\n",
    "\t\t\telse:\n",
    "\t\t\t\t# Hidden layer\n",
    "\t\t\t\tself.weights.append(np.random.uniform(-1, 1, size=(self.num_units, self.num_units)))\n",
    "\n",
    "\t\t\tself.biases.append(np.random.uniform(-1, 1, size=(self.num_units, 1)))\n",
    "\n",
    "\t\t# Output layer\n",
    "\t\tself.biases.append(np.random.uniform(-1, 1, size=(1, 1)))\n",
    "\t\tself.weights.append(np.random.uniform(-1, 1, size=(self.num_units, 1)))\n",
    "p1=Net(2,2)\n",
    "h1=[]\n",
    "for i in range(p1.num_layers):\n",
    "    h1.append(x.dot(p1.weights[i])+p1.biases[i])\n",
    "h1.append(x.dot(p1.weights[2])+p1.biases[2])\n",
    "h1\n",
    "# \tdef __call__(self, X):\n",
    "# \t\t'''\n",
    "# \t\tForward propagate the input X through the network,\n",
    "# \t\tand return the output.\n",
    "\n",
    "# \t\tNote that for a classification task, the output layer should\n",
    "# \t\tbe a softmax layer. So perform the computations accordingly\n",
    "\n",
    "# \t\tParameters\n",
    "# \t\t----------\n",
    "# \t\t\tX : Input to the network, numpy array of shape m x d\n",
    "# \t\tReturns\n",
    "# \t\t----------\n",
    "# \t\t\ty : Output of the network, numpy array of shape m x 1\n",
    "# \t\t'''\n",
    "# #         raise NotImplementedError"
   ]
  },
  {
   "cell_type": "code",
   "execution_count": null,
   "id": "f75122d2",
   "metadata": {},
   "outputs": [],
   "source": []
  }
 ],
 "metadata": {
  "kernelspec": {
   "display_name": "Python 3 (ipykernel)",
   "language": "python",
   "name": "python3"
  },
  "language_info": {
   "codemirror_mode": {
    "name": "ipython",
    "version": 3
   },
   "file_extension": ".py",
   "mimetype": "text/x-python",
   "name": "python",
   "nbconvert_exporter": "python",
   "pygments_lexer": "ipython3",
   "version": "3.10.1"
  }
 },
 "nbformat": 4,
 "nbformat_minor": 5
}
