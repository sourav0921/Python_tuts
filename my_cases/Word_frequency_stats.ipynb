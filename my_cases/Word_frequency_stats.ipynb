{
 "cells": [
  {
   "cell_type": "code",
   "execution_count": 14,
   "id": "20ed4bbb",
   "metadata": {},
   "outputs": [],
   "source": [
    "import string as str\n",
    "def word_count(text):\n",
    "    \"\"\"Counts the number of times the words is present in the text\"\"\"\n",
    "    dict={}\n",
    "    #Avoid puntuation and Capital latter\n",
    "    text=text.lower()\n",
    "    skip=[\".\",\",\",\":\",\"'\",'\"',\":\"]\n",
    "    for ch in skip:\n",
    "        text=text.replace(ch,\"\")\n",
    "    for word in text.split(\" \"):\n",
    "        if word in dict:\n",
    "            dict[word]+=1\n",
    "        else:\n",
    "            dict[word]=1\n",
    "    return dict"
   ]
  },
  {
   "cell_type": "code",
   "execution_count": 8,
   "id": "150e8dad",
   "metadata": {},
   "outputs": [],
   "source": [
    "def read_book(book_path):\n",
    "    with open(book_path,\"r\",encoding=\"utf8\") as text:\n",
    "        file=text.read()\n",
    "        file=file.replace(\"\\n\",\"\").replace(\"\\r\",\"\")\n",
    "    return file"
   ]
  },
  {
   "cell_type": "code",
   "execution_count": 19,
   "id": "99281233",
   "metadata": {},
   "outputs": [],
   "source": [
    "def word_stats(word_counts):\n",
    "    num_unique=len(word_counts)\n",
    "    counts=word_counts.values()\n",
    "    return(num_unique,counts)"
   ]
  },
  {
   "cell_type": "code",
   "execution_count": 12,
   "id": "1029ca04",
   "metadata": {},
   "outputs": [],
   "source": [
    "text=read_book(\"book.txt\")"
   ]
  },
  {
   "cell_type": "code",
   "execution_count": 16,
   "id": "a51daf37",
   "metadata": {},
   "outputs": [],
   "source": [
    "text=word_count(text)"
   ]
  },
  {
   "cell_type": "code",
   "execution_count": 17,
   "id": "73644083",
   "metadata": {},
   "outputs": [
    {
     "data": {
      "text/plain": [
       "{'for': 1,\n",
       " 'many': 1,\n",
       " 'real': 1,\n",
       " 'materials': 1,\n",
       " 'this': 1,\n",
       " 'creep': 2,\n",
       " 'phase': 2,\n",
       " 'is': 1,\n",
       " 'continued': 1,\n",
       " 'by': 2,\n",
       " 'an': 1,\n",
       " 'overlinear': 1,\n",
       " 'tertiarycreep': 1,\n",
       " 'which': 1,\n",
       " 'cannot': 1,\n",
       " 'be': 1,\n",
       " 'described': 1,\n",
       " 'the': 5,\n",
       " 'burgers': 1,\n",
       " 'model': 1,\n",
       " 'alone': 1,\n",
       " 'incontrast': 1,\n",
       " 'to': 2,\n",
       " 'first': 1,\n",
       " 'and': 1,\n",
       " 'second': 1,\n",
       " 'phasesin': 1,\n",
       " 'a': 1,\n",
       " 'relaxation': 1,\n",
       " 'test': 1,\n",
       " 'stresses': 1,\n",
       " 'in': 1,\n",
       " 'spring': 1,\n",
       " 'c': 1,\n",
       " 'relax': 1,\n",
       " 'through': 1,\n",
       " 'damper': 1,\n",
       " 'dand': 1,\n",
       " 'converge': 1,\n",
       " 'zero': 1}"
      ]
     },
     "execution_count": 17,
     "metadata": {},
     "output_type": "execute_result"
    }
   ],
   "source": [
    "text"
   ]
  },
  {
   "cell_type": "code",
   "execution_count": 20,
   "id": "8c395436",
   "metadata": {},
   "outputs": [],
   "source": [
    "z=word_stats(text)"
   ]
  },
  {
   "cell_type": "code",
   "execution_count": 21,
   "id": "607f2f31",
   "metadata": {},
   "outputs": [
    {
     "data": {
      "text/plain": [
       "(40,\n",
       " dict_values([1, 1, 1, 1, 1, 2, 2, 1, 1, 2, 1, 1, 1, 1, 1, 1, 1, 5, 1, 1, 1, 1, 2, 1, 1, 1, 1, 1, 1, 1, 1, 1, 1, 1, 1, 1, 1, 1, 1, 1]))"
      ]
     },
     "execution_count": 21,
     "metadata": {},
     "output_type": "execute_result"
    }
   ],
   "source": [
    "z"
   ]
  },
  {
   "cell_type": "code",
   "execution_count": 27,
   "id": "ce7f0855",
   "metadata": {},
   "outputs": [
    {
     "data": {
      "text/plain": [
       "48"
      ]
     },
     "execution_count": 27,
     "metadata": {},
     "output_type": "execute_result"
    }
   ],
   "source": [
    "sum(z[1])"
   ]
  },
  {
   "cell_type": "code",
   "execution_count": 29,
   "id": "456f3fe7",
   "metadata": {},
   "outputs": [
    {
     "data": {
      "text/plain": [
       "2"
      ]
     },
     "execution_count": 29,
     "metadata": {},
     "output_type": "execute_result"
    }
   ],
   "source": [
    "len(z)"
   ]
  },
  {
   "cell_type": "code",
   "execution_count": 30,
   "id": "91927169",
   "metadata": {},
   "outputs": [
    {
     "data": {
      "text/plain": [
       "40"
      ]
     },
     "execution_count": 30,
     "metadata": {},
     "output_type": "execute_result"
    }
   ],
   "source": [
    "len(text)"
   ]
  },
  {
   "cell_type": "code",
   "execution_count": null,
   "id": "542b2bc4",
   "metadata": {},
   "outputs": [],
   "source": []
  }
 ],
 "metadata": {
  "kernelspec": {
   "display_name": "Python 3 (ipykernel)",
   "language": "python",
   "name": "python3"
  },
  "language_info": {
   "codemirror_mode": {
    "name": "ipython",
    "version": 3
   },
   "file_extension": ".py",
   "mimetype": "text/x-python",
   "name": "python",
   "nbconvert_exporter": "python",
   "pygments_lexer": "ipython3",
   "version": "3.10.1"
  }
 },
 "nbformat": 4,
 "nbformat_minor": 5
}
