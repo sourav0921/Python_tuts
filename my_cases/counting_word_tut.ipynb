{
 "cells": [
  {
   "cell_type": "code",
   "execution_count": 29,
   "id": "c4851821",
   "metadata": {},
   "outputs": [
    {
     "data": {
      "text/plain": [
       "'role of material property in terms of spring stiffness of the particle on the behaviour of the contact role. the sd method has an important advantage over the dg and sv methods, that no integrals have to be evaluated to compute the residuals, thus avoiding the need for costly high-order accurate quadrature formulas. '"
      ]
     },
     "execution_count": 29,
     "metadata": {},
     "output_type": "execute_result"
    }
   ],
   "source": [
    "text=\"Role of material property in terms of spring stiffness of the particle on the behaviour of the contact role. The SD method has an important advantage over the DG and SV methods, that no integrals have to be evaluated to compute the residuals, thus avoiding the need for costly high-order accurate quadrature formulas. \"\n",
    "text.lower()"
   ]
  },
  {
   "cell_type": "code",
   "execution_count": 30,
   "id": "15f6d4c6",
   "metadata": {},
   "outputs": [],
   "source": [
    "import string as str\n",
    "def word_count(text):\n",
    "    \"\"\"Counts the number of times the words is present in the text\"\"\"\n",
    "    dict={}\n",
    "    #Avoid puntuation and Capital latter\n",
    "    text=text.lower()\n",
    "    skip=[\".\",\",\",\":\",\"'\",'\"',\":\"]\n",
    "    for ch in skip:\n",
    "        text=text.replace(ch,\"\")\n",
    "    for word in text.split(\" \"):\n",
    "        if word in dict:\n",
    "            dict[word]+=1\n",
    "        else:\n",
    "            dict[word]=1\n",
    "    return dict\n",
    "        "
   ]
  },
  {
   "cell_type": "code",
   "execution_count": 31,
   "id": "b5c3316b",
   "metadata": {},
   "outputs": [
    {
     "data": {
      "text/plain": [
       "{'role': 2,\n",
       " 'of': 4,\n",
       " 'material': 1,\n",
       " 'property': 1,\n",
       " 'in': 1,\n",
       " 'terms': 1,\n",
       " 'spring': 1,\n",
       " 'stiffness': 1,\n",
       " 'the': 7,\n",
       " 'particle': 1,\n",
       " 'on': 1,\n",
       " 'behaviour': 1,\n",
       " 'contact': 1,\n",
       " 'sd': 1,\n",
       " 'method': 1,\n",
       " 'has': 1,\n",
       " 'an': 1,\n",
       " 'important': 1,\n",
       " 'advantage': 1,\n",
       " 'over': 1,\n",
       " 'dg': 1,\n",
       " 'and': 1,\n",
       " 'sv': 1,\n",
       " 'methods': 1,\n",
       " 'that': 1,\n",
       " 'no': 1,\n",
       " 'integrals': 1,\n",
       " 'have': 1,\n",
       " 'to': 2,\n",
       " 'be': 1,\n",
       " 'evaluated': 1,\n",
       " 'compute': 1,\n",
       " 'residuals': 1,\n",
       " 'thus': 1,\n",
       " 'avoiding': 1,\n",
       " 'need': 1,\n",
       " 'for': 1,\n",
       " 'costly': 1,\n",
       " 'high-order': 1,\n",
       " 'accurate': 1,\n",
       " 'quadrature': 1,\n",
       " 'formulas': 1,\n",
       " '': 1}"
      ]
     },
     "execution_count": 31,
     "metadata": {},
     "output_type": "execute_result"
    }
   ],
   "source": [
    "word_count(text)"
   ]
  },
  {
   "cell_type": "code",
   "execution_count": 17,
   "id": "e765555c",
   "metadata": {},
   "outputs": [
    {
     "name": "stdout",
     "output_type": "stream",
     "text": [
      "Help on function word_count in module __main__:\n",
      "\n",
      "word_count(text)\n",
      "    Counts the number of times the words is present in the text\n",
      "\n"
     ]
    }
   ],
   "source": [
    "help(word_count)"
   ]
  },
  {
   "cell_type": "code",
   "execution_count": 32,
   "id": "de51a070",
   "metadata": {},
   "outputs": [],
   "source": [
    "from collections import Counter\n",
    "def word_count_fast(text):\n",
    "    \"\"\"Counts the number of times the words is present in the text\"\"\"\n",
    "    dict={}\n",
    "    #Avoid puntuation and Capital latter\n",
    "    text=text.lower()\n",
    "    skip=[\".\",\",\",\":\",\"'\",'\"',\":\"]\n",
    "    for ch in skip:\n",
    "        text=text.replace(ch,\"\")\n",
    "    dict=Counter(text.split(\" \"))\n",
    "    return dict"
   ]
  },
  {
   "cell_type": "code",
   "execution_count": 33,
   "id": "b6f6a960",
   "metadata": {},
   "outputs": [
    {
     "data": {
      "text/plain": [
       "Counter({'role': 2,\n",
       "         'of': 4,\n",
       "         'material': 1,\n",
       "         'property': 1,\n",
       "         'in': 1,\n",
       "         'terms': 1,\n",
       "         'spring': 1,\n",
       "         'stiffness': 1,\n",
       "         'the': 7,\n",
       "         'particle': 1,\n",
       "         'on': 1,\n",
       "         'behaviour': 1,\n",
       "         'contact': 1,\n",
       "         'sd': 1,\n",
       "         'method': 1,\n",
       "         'has': 1,\n",
       "         'an': 1,\n",
       "         'important': 1,\n",
       "         'advantage': 1,\n",
       "         'over': 1,\n",
       "         'dg': 1,\n",
       "         'and': 1,\n",
       "         'sv': 1,\n",
       "         'methods': 1,\n",
       "         'that': 1,\n",
       "         'no': 1,\n",
       "         'integrals': 1,\n",
       "         'have': 1,\n",
       "         'to': 2,\n",
       "         'be': 1,\n",
       "         'evaluated': 1,\n",
       "         'compute': 1,\n",
       "         'residuals': 1,\n",
       "         'thus': 1,\n",
       "         'avoiding': 1,\n",
       "         'need': 1,\n",
       "         'for': 1,\n",
       "         'costly': 1,\n",
       "         'high-order': 1,\n",
       "         'accurate': 1,\n",
       "         'quadrature': 1,\n",
       "         'formulas': 1,\n",
       "         '': 1})"
      ]
     },
     "execution_count": 33,
     "metadata": {},
     "output_type": "execute_result"
    }
   ],
   "source": [
    "word_count_fast(text)"
   ]
  },
  {
   "cell_type": "code",
   "execution_count": 34,
   "id": "c37802a9",
   "metadata": {},
   "outputs": [
    {
     "data": {
      "text/plain": [
       "True"
      ]
     },
     "execution_count": 34,
     "metadata": {},
     "output_type": "execute_result"
    }
   ],
   "source": [
    "word_count(text)==word_count_fast(text)"
   ]
  },
  {
   "cell_type": "code",
   "execution_count": 35,
   "id": "52ba9914",
   "metadata": {},
   "outputs": [
    {
     "data": {
      "text/plain": [
       "6"
      ]
     },
     "execution_count": 35,
     "metadata": {},
     "output_type": "execute_result"
    }
   ],
   "source": [
    "len(word_count(\"This comprehension check is to check for comprehension.\"))"
   ]
  },
  {
   "cell_type": "code",
   "execution_count": 36,
   "id": "9e87976f",
   "metadata": {},
   "outputs": [
    {
     "data": {
      "text/plain": [
       "False"
      ]
     },
     "execution_count": 36,
     "metadata": {},
     "output_type": "execute_result"
    }
   ],
   "source": [
    "word_count(text) is word_count_fast(text)"
   ]
  },
  {
   "cell_type": "code",
   "execution_count": null,
   "id": "d4491e5f",
   "metadata": {},
   "outputs": [],
   "source": []
  }
 ],
 "metadata": {
  "kernelspec": {
   "display_name": "Python 3 (ipykernel)",
   "language": "python",
   "name": "python3"
  },
  "language_info": {
   "codemirror_mode": {
    "name": "ipython",
    "version": 3
   },
   "file_extension": ".py",
   "mimetype": "text/x-python",
   "name": "python",
   "nbconvert_exporter": "python",
   "pygments_lexer": "ipython3",
   "version": "3.10.1"
  }
 },
 "nbformat": 4,
 "nbformat_minor": 5
}
