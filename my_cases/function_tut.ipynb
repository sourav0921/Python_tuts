{
 "cells": [
  {
   "cell_type": "code",
   "execution_count": 1,
   "id": "12c2792e",
   "metadata": {},
   "outputs": [],
   "source": [
    "def add(a,b):\n",
    "    my_sum=a+b\n",
    "    return(my_sum)"
   ]
  },
  {
   "cell_type": "code",
   "execution_count": 2,
   "id": "6b14074b",
   "metadata": {},
   "outputs": [
    {
     "data": {
      "text/plain": [
       "5"
      ]
     },
     "execution_count": 2,
     "metadata": {},
     "output_type": "execute_result"
    }
   ],
   "source": [
    "add(2,3)"
   ]
  },
  {
   "cell_type": "code",
   "execution_count": 3,
   "id": "b29238b4",
   "metadata": {},
   "outputs": [],
   "source": [
    "#Get the function output in terms of tuples\n",
    "def add_and_subtract(a,b):\n",
    "    my_sum=a+b\n",
    "    my_diff=a-b\n",
    "    my_multi=a*b\n",
    "    return(my_sum,my_diff,my_multi)"
   ]
  },
  {
   "cell_type": "code",
   "execution_count": 4,
   "id": "7477c48d",
   "metadata": {},
   "outputs": [
    {
     "data": {
      "text/plain": [
       "(37, 13, 300)"
      ]
     },
     "execution_count": 4,
     "metadata": {},
     "output_type": "execute_result"
    }
   ],
   "source": [
    "add_and_subtract(25,12)"
   ]
  },
  {
   "cell_type": "code",
   "execution_count": 5,
   "id": "b4da3c2c",
   "metadata": {},
   "outputs": [],
   "source": [
    "#Function to modify a list\n",
    "def modify(mylist):\n",
    "    mylist[0]*=10\n",
    "    mylist[3]/=10"
   ]
  },
  {
   "cell_type": "code",
   "execution_count": 6,
   "id": "8b0d6270",
   "metadata": {},
   "outputs": [],
   "source": [
    "list=[5,6,7,8,9,10]"
   ]
  },
  {
   "cell_type": "code",
   "execution_count": 16,
   "id": "02687382",
   "metadata": {},
   "outputs": [],
   "source": [
    "L=modify(list)"
   ]
  },
  {
   "cell_type": "code",
   "execution_count": 17,
   "id": "c70bfd17",
   "metadata": {},
   "outputs": [
    {
     "data": {
      "text/plain": [
       "[500, 6, 7, 0.8, 9, 10]"
      ]
     },
     "execution_count": 17,
     "metadata": {},
     "output_type": "execute_result"
    }
   ],
   "source": [
    "L"
   ]
  },
  {
   "cell_type": "code",
   "execution_count": null,
   "id": "aad7faf5",
   "metadata": {},
   "outputs": [],
   "source": []
  },
  {
   "cell_type": "code",
   "execution_count": null,
   "id": "0f930fa3",
   "metadata": {},
   "outputs": [],
   "source": []
  },
  {
   "cell_type": "code",
   "execution_count": 11,
   "id": "14af8c54",
   "metadata": {},
   "outputs": [
    {
     "data": {
      "text/plain": [
       "[50, 6, 7, 0.8, 9, 10]"
      ]
     },
     "execution_count": 11,
     "metadata": {},
     "output_type": "execute_result"
    }
   ],
   "source": [
    "list"
   ]
  },
  {
   "cell_type": "code",
   "execution_count": 13,
   "id": "467c1b41",
   "metadata": {},
   "outputs": [
    {
     "data": {
      "text/plain": [
       "True"
      ]
     },
     "execution_count": 13,
     "metadata": {},
     "output_type": "execute_result"
    }
   ],
   "source": [
    "#Example problem\n",
    "def modify(mylist):\n",
    "    mylist[0] *= 10\n",
    "    return(mylist)\n",
    "L = [1, 3, 5, 7, 9]\n",
    "M = modify(L)\n",
    "M is L"
   ]
  },
  {
   "cell_type": "code",
   "execution_count": 14,
   "id": "97ef2fdd",
   "metadata": {},
   "outputs": [
    {
     "data": {
      "text/plain": [
       "[10, 3, 5, 7, 9]"
      ]
     },
     "execution_count": 14,
     "metadata": {},
     "output_type": "execute_result"
    }
   ],
   "source": [
    "M"
   ]
  },
  {
   "cell_type": "code",
   "execution_count": null,
   "id": "ad41931a",
   "metadata": {},
   "outputs": [],
   "source": []
  }
 ],
 "metadata": {
  "kernelspec": {
   "display_name": "Python 3 (ipykernel)",
   "language": "python",
   "name": "python3"
  },
  "language_info": {
   "codemirror_mode": {
    "name": "ipython",
    "version": 3
   },
   "file_extension": ".py",
   "mimetype": "text/x-python",
   "name": "python",
   "nbconvert_exporter": "python",
   "pygments_lexer": "ipython3",
   "version": "3.10.1"
  }
 },
 "nbformat": 4,
 "nbformat_minor": 5
}
