{
 "cells": [
  {
   "cell_type": "code",
   "execution_count": 1,
   "id": "b42819bc",
   "metadata": {},
   "outputs": [
    {
     "ename": "ModuleNotFoundError",
     "evalue": "No module named 'numpy'",
     "output_type": "error",
     "traceback": [
      "\u001b[1;31m---------------------------------------------------------------------------\u001b[0m",
      "\u001b[1;31mModuleNotFoundError\u001b[0m                       Traceback (most recent call last)",
      "\u001b[1;32m~\\AppData\\Local\\Temp/ipykernel_10040/3593848235.py\u001b[0m in \u001b[0;36m<module>\u001b[1;34m\u001b[0m\n\u001b[1;32m----> 1\u001b[1;33m \u001b[1;32mimport\u001b[0m \u001b[0mnumpy\u001b[0m \u001b[1;32mas\u001b[0m \u001b[0mnp\u001b[0m\u001b[1;33m\u001b[0m\u001b[1;33m\u001b[0m\u001b[0m\n\u001b[0m",
      "\u001b[1;31mModuleNotFoundError\u001b[0m: No module named 'numpy'"
     ]
    }
   ],
   "source": []
  },
  {
   "cell_type": "code",
   "execution_count": 2,
   "id": "bd7286c1",
   "metadata": {},
   "outputs": [],
   "source": [
    "import numpy as np"
   ]
  },
  {
   "cell_type": "code",
   "execution_count": 2,
   "id": "25e6c22b",
   "metadata": {},
   "outputs": [],
   "source": [
    "x=np.array([2,3,4])"
   ]
  },
  {
   "cell_type": "code",
   "execution_count": 3,
   "id": "2f729026",
   "metadata": {},
   "outputs": [
    {
     "data": {
      "text/plain": [
       "array([2, 3, 4])"
      ]
     },
     "execution_count": 3,
     "metadata": {},
     "output_type": "execute_result"
    }
   ],
   "source": [
    "x"
   ]
  },
  {
   "cell_type": "code",
   "execution_count": 5,
   "id": "0f3a1714",
   "metadata": {},
   "outputs": [],
   "source": [
    "zero_vector=np.zeros(5)"
   ]
  },
  {
   "cell_type": "code",
   "execution_count": 6,
   "id": "aa09bccd",
   "metadata": {},
   "outputs": [
    {
     "data": {
      "text/plain": [
       "array([0., 0., 0., 0., 0.])"
      ]
     },
     "execution_count": 6,
     "metadata": {},
     "output_type": "execute_result"
    }
   ],
   "source": [
    "zero_vector"
   ]
  },
  {
   "cell_type": "code",
   "execution_count": 7,
   "id": "84810a15",
   "metadata": {},
   "outputs": [],
   "source": [
    "zero_matrix=np.zeros((5,3))"
   ]
  },
  {
   "cell_type": "code",
   "execution_count": 11,
   "id": "5670ed3d",
   "metadata": {},
   "outputs": [
    {
     "data": {
      "text/plain": [
       "array([[0., 0., 0.],\n",
       "       [0., 0., 0.],\n",
       "       [0., 0., 0.],\n",
       "       [0., 0., 0.],\n",
       "       [0., 0., 0.]])"
      ]
     },
     "execution_count": 11,
     "metadata": {},
     "output_type": "execute_result"
    }
   ],
   "source": [
    "zero_matrix"
   ]
  },
  {
   "cell_type": "code",
   "execution_count": 15,
   "id": "9d2fd130",
   "metadata": {},
   "outputs": [],
   "source": [
    "Y=np.array([[3,4,5],[7,8,9],[3,3,3]])"
   ]
  },
  {
   "cell_type": "code",
   "execution_count": 16,
   "id": "66888542",
   "metadata": {},
   "outputs": [
    {
     "data": {
      "text/plain": [
       "array([[3, 4, 5],\n",
       "       [7, 8, 9],\n",
       "       [3, 3, 3]])"
      ]
     },
     "execution_count": 16,
     "metadata": {},
     "output_type": "execute_result"
    }
   ],
   "source": [
    "Y"
   ]
  },
  {
   "cell_type": "code",
   "execution_count": 3,
   "id": "916e67fa",
   "metadata": {},
   "outputs": [],
   "source": [
    "# Access and slice numpy arrays\n",
    "x=np.array([3,4,6])"
   ]
  },
  {
   "cell_type": "code",
   "execution_count": 4,
   "id": "938ba8b8",
   "metadata": {},
   "outputs": [],
   "source": [
    "y=np.array([2,8,4])"
   ]
  },
  {
   "cell_type": "code",
   "execution_count": 5,
   "id": "5e293485",
   "metadata": {},
   "outputs": [],
   "source": [
    "z=x+y"
   ]
  },
  {
   "cell_type": "code",
   "execution_count": 6,
   "id": "814c91f4",
   "metadata": {},
   "outputs": [
    {
     "data": {
      "text/plain": [
       "array([ 5, 12, 10])"
      ]
     },
     "execution_count": 6,
     "metadata": {},
     "output_type": "execute_result"
    }
   ],
   "source": [
    "z"
   ]
  },
  {
   "cell_type": "code",
   "execution_count": 7,
   "id": "5e3d14c9",
   "metadata": {},
   "outputs": [
    {
     "data": {
      "text/plain": [
       "6"
      ]
     },
     "execution_count": 7,
     "metadata": {},
     "output_type": "execute_result"
    }
   ],
   "source": [
    "x[2]"
   ]
  },
  {
   "cell_type": "code",
   "execution_count": 9,
   "id": "3467a2f2",
   "metadata": {},
   "outputs": [
    {
     "data": {
      "text/plain": [
       "array([3, 4])"
      ]
     },
     "execution_count": 9,
     "metadata": {},
     "output_type": "execute_result"
    }
   ],
   "source": [
    "x[0:2]"
   ]
  },
  {
   "cell_type": "code",
   "execution_count": 10,
   "id": "565d3f4d",
   "metadata": {},
   "outputs": [],
   "source": [
    "X=np.array([[2,3,7],[3,8,7]])"
   ]
  },
  {
   "cell_type": "code",
   "execution_count": 12,
   "id": "84212c78",
   "metadata": {},
   "outputs": [
    {
     "data": {
      "text/plain": [
       "array([2, 3])"
      ]
     },
     "execution_count": 12,
     "metadata": {},
     "output_type": "execute_result"
    }
   ],
   "source": [
    "X[:,0]"
   ]
  },
  {
   "cell_type": "code",
   "execution_count": 13,
   "id": "2ef41774",
   "metadata": {},
   "outputs": [],
   "source": [
    "Y=np.array([[3,8,1],[1,9,4]])"
   ]
  },
  {
   "cell_type": "code",
   "execution_count": 15,
   "id": "31fe43b2",
   "metadata": {},
   "outputs": [
    {
     "data": {
      "text/plain": [
       "array([3, 7])"
      ]
     },
     "execution_count": 15,
     "metadata": {},
     "output_type": "execute_result"
    }
   ],
   "source": [
    "X[:,0]+Y[:,2]"
   ]
  },
  {
   "cell_type": "code",
   "execution_count": 16,
   "id": "940a1695",
   "metadata": {},
   "outputs": [
    {
     "data": {
      "text/plain": [
       "8"
      ]
     },
     "execution_count": 16,
     "metadata": {},
     "output_type": "execute_result"
    }
   ],
   "source": [
    "X[1][1]"
   ]
  },
  {
   "cell_type": "code",
   "execution_count": 17,
   "id": "798d2def",
   "metadata": {},
   "outputs": [
    {
     "data": {
      "text/plain": [
       "array([3, 8, 7])"
      ]
     },
     "execution_count": 17,
     "metadata": {},
     "output_type": "execute_result"
    }
   ],
   "source": [
    "X[1,:]"
   ]
  },
  {
   "cell_type": "code",
   "execution_count": 2,
   "id": "400e066a",
   "metadata": {},
   "outputs": [],
   "source": [
    "G1=np.array([2,3,4,5,6,7,8])"
   ]
  },
  {
   "cell_type": "code",
   "execution_count": 3,
   "id": "190ff470",
   "metadata": {},
   "outputs": [
    {
     "data": {
      "text/plain": [
       "array([ True,  True,  True, False, False, False, False])"
      ]
     },
     "execution_count": 3,
     "metadata": {},
     "output_type": "execute_result"
    }
   ],
   "source": [
    "G1<5"
   ]
  },
  {
   "cell_type": "code",
   "execution_count": 4,
   "id": "1e53dca3",
   "metadata": {},
   "outputs": [
    {
     "data": {
      "text/plain": [
       "array([2, 3, 4])"
      ]
     },
     "execution_count": 4,
     "metadata": {},
     "output_type": "execute_result"
    }
   ],
   "source": [
    "G1[G1<5]"
   ]
  },
  {
   "cell_type": "code",
   "execution_count": 5,
   "id": "037bb119",
   "metadata": {},
   "outputs": [
    {
     "ename": "NameError",
     "evalue": "name 'G2' is not defined",
     "output_type": "error",
     "traceback": [
      "\u001b[1;31m---------------------------------------------------------------------------\u001b[0m",
      "\u001b[1;31mNameError\u001b[0m                                 Traceback (most recent call last)",
      "\u001b[1;32m~\\AppData\\Local\\Temp/ipykernel_10628/3895988973.py\u001b[0m in \u001b[0;36m<module>\u001b[1;34m\u001b[0m\n\u001b[1;32m----> 1\u001b[1;33m \u001b[0mG2\u001b[0m\u001b[1;33m[\u001b[0m\u001b[0mG1\u001b[0m\u001b[1;33m<\u001b[0m\u001b[1;36m5\u001b[0m\u001b[1;33m]\u001b[0m\u001b[1;33m\u001b[0m\u001b[1;33m\u001b[0m\u001b[0m\n\u001b[0m",
      "\u001b[1;31mNameError\u001b[0m: name 'G2' is not defined"
     ]
    }
   ],
   "source": [
    "G2[G1<5]"
   ]
  },
  {
   "cell_type": "code",
   "execution_count": 10,
   "id": "c68d3f66",
   "metadata": {},
   "outputs": [],
   "source": [
    "G2=np.array([4,5,6,7,8,9,10])"
   ]
  },
  {
   "cell_type": "code",
   "execution_count": 11,
   "id": "201ad7da",
   "metadata": {},
   "outputs": [
    {
     "data": {
      "text/plain": [
       "array([ 8,  9, 10])"
      ]
     },
     "execution_count": 11,
     "metadata": {},
     "output_type": "execute_result"
    }
   ],
   "source": [
    "G2[G1>5]"
   ]
  },
  {
   "cell_type": "code",
   "execution_count": 12,
   "id": "72a6b3a8",
   "metadata": {},
   "outputs": [],
   "source": [
    "ind=G1>5"
   ]
  },
  {
   "cell_type": "code",
   "execution_count": 13,
   "id": "9451aa52",
   "metadata": {},
   "outputs": [
    {
     "data": {
      "text/plain": [
       "array([6, 7, 8])"
      ]
     },
     "execution_count": 13,
     "metadata": {},
     "output_type": "execute_result"
    }
   ],
   "source": [
    "G1[ind]"
   ]
  },
  {
   "cell_type": "code",
   "execution_count": 14,
   "id": "1b4599ca",
   "metadata": {},
   "outputs": [],
   "source": [
    "z1=G1[0:3]"
   ]
  },
  {
   "cell_type": "code",
   "execution_count": 15,
   "id": "4edd45bf",
   "metadata": {},
   "outputs": [
    {
     "data": {
      "text/plain": [
       "array([2, 3, 4])"
      ]
     },
     "execution_count": 15,
     "metadata": {},
     "output_type": "execute_result"
    }
   ],
   "source": [
    "z1"
   ]
  },
  {
   "cell_type": "code",
   "execution_count": 16,
   "id": "c1b1d4f3",
   "metadata": {},
   "outputs": [],
   "source": [
    "z1[0]=3"
   ]
  },
  {
   "cell_type": "code",
   "execution_count": 17,
   "id": "d5481748",
   "metadata": {},
   "outputs": [
    {
     "data": {
      "text/plain": [
       "array([3, 3, 4])"
      ]
     },
     "execution_count": 17,
     "metadata": {},
     "output_type": "execute_result"
    }
   ],
   "source": [
    "z1"
   ]
  },
  {
   "cell_type": "code",
   "execution_count": 18,
   "id": "c44595e0",
   "metadata": {},
   "outputs": [
    {
     "data": {
      "text/plain": [
       "array([3, 3, 4, 5, 6, 7, 8])"
      ]
     },
     "execution_count": 18,
     "metadata": {},
     "output_type": "execute_result"
    }
   ],
   "source": [
    "G1"
   ]
  },
  {
   "cell_type": "code",
   "execution_count": 19,
   "id": "52423ba2",
   "metadata": {},
   "outputs": [],
   "source": [
    "#Slicing chages the original loop but numpy indexing do not change the original list"
   ]
  },
  {
   "cell_type": "code",
   "execution_count": 20,
   "id": "125cb88e",
   "metadata": {},
   "outputs": [],
   "source": [
    "G1[0]=1"
   ]
  },
  {
   "cell_type": "code",
   "execution_count": 21,
   "id": "376f0073",
   "metadata": {},
   "outputs": [
    {
     "data": {
      "text/plain": [
       "array([1, 3, 4, 5, 6, 7, 8])"
      ]
     },
     "execution_count": 21,
     "metadata": {},
     "output_type": "execute_result"
    }
   ],
   "source": [
    "G1"
   ]
  },
  {
   "cell_type": "code",
   "execution_count": 22,
   "id": "d493b2d6",
   "metadata": {},
   "outputs": [],
   "source": [
    "ind=G1<5"
   ]
  },
  {
   "cell_type": "code",
   "execution_count": 23,
   "id": "8fbb8e33",
   "metadata": {},
   "outputs": [
    {
     "data": {
      "text/plain": [
       "array([ True,  True,  True, False, False, False, False])"
      ]
     },
     "execution_count": 23,
     "metadata": {},
     "output_type": "execute_result"
    }
   ],
   "source": [
    "ind"
   ]
  },
  {
   "cell_type": "code",
   "execution_count": 24,
   "id": "753475a9",
   "metadata": {},
   "outputs": [],
   "source": [
    "z1=G1[ind]"
   ]
  },
  {
   "cell_type": "code",
   "execution_count": 25,
   "id": "a05aaf41",
   "metadata": {},
   "outputs": [
    {
     "data": {
      "text/plain": [
       "array([1, 3, 4])"
      ]
     },
     "execution_count": 25,
     "metadata": {},
     "output_type": "execute_result"
    }
   ],
   "source": [
    "z1"
   ]
  },
  {
   "cell_type": "code",
   "execution_count": 28,
   "id": "31347180",
   "metadata": {},
   "outputs": [],
   "source": [
    "z1[0]=3"
   ]
  },
  {
   "cell_type": "code",
   "execution_count": 29,
   "id": "44196afe",
   "metadata": {},
   "outputs": [
    {
     "data": {
      "text/plain": [
       "array([3, 3, 4])"
      ]
     },
     "execution_count": 29,
     "metadata": {},
     "output_type": "execute_result"
    }
   ],
   "source": [
    "z1"
   ]
  },
  {
   "cell_type": "code",
   "execution_count": 30,
   "id": "16875f1a",
   "metadata": {},
   "outputs": [
    {
     "data": {
      "text/plain": [
       "array([1, 3, 4, 5, 6, 7, 8])"
      ]
     },
     "execution_count": 30,
     "metadata": {},
     "output_type": "execute_result"
    }
   ],
   "source": [
    "G1"
   ]
  },
  {
   "cell_type": "code",
   "execution_count": 5,
   "id": "3a78cdad",
   "metadata": {},
   "outputs": [],
   "source": [
    "x=np.linspace(0,100,11)"
   ]
  },
  {
   "cell_type": "code",
   "execution_count": 6,
   "id": "ccc8fe62",
   "metadata": {},
   "outputs": [
    {
     "data": {
      "text/plain": [
       "array([  0.,  10.,  20.,  30.,  40.,  50.,  60.,  70.,  80.,  90., 100.])"
      ]
     },
     "execution_count": 6,
     "metadata": {},
     "output_type": "execute_result"
    }
   ],
   "source": [
    "x"
   ]
  },
  {
   "cell_type": "code",
   "execution_count": 9,
   "id": "b4c42306",
   "metadata": {},
   "outputs": [],
   "source": [
    "x=np.logspace(1,2,10)"
   ]
  },
  {
   "cell_type": "code",
   "execution_count": 10,
   "id": "012847ee",
   "metadata": {},
   "outputs": [
    {
     "data": {
      "text/plain": [
       "array([ 10.        ,  12.91549665,  16.68100537,  21.5443469 ,\n",
       "        27.82559402,  35.93813664,  46.41588834,  59.94842503,\n",
       "        77.42636827, 100.        ])"
      ]
     },
     "execution_count": 10,
     "metadata": {},
     "output_type": "execute_result"
    }
   ],
   "source": [
    "x"
   ]
  },
  {
   "cell_type": "code",
   "execution_count": 11,
   "id": "55e4cf7d",
   "metadata": {},
   "outputs": [],
   "source": [
    "y=np.logspace(np.log10(250),np.log10(500),10)"
   ]
  },
  {
   "cell_type": "code",
   "execution_count": 12,
   "id": "638a698d",
   "metadata": {},
   "outputs": [
    {
     "data": {
      "text/plain": [
       "array([250.        , 270.01493472, 291.63225989, 314.98026247,\n",
       "       340.19750004, 367.43362307, 396.85026299, 428.62199143,\n",
       "       462.93735614, 500.        ])"
      ]
     },
     "execution_count": 12,
     "metadata": {},
     "output_type": "execute_result"
    }
   ],
   "source": [
    "y"
   ]
  },
  {
   "cell_type": "code",
   "execution_count": 13,
   "id": "956d0aa8",
   "metadata": {},
   "outputs": [],
   "source": [
    "Y=np.random.random(10)"
   ]
  },
  {
   "cell_type": "code",
   "execution_count": 14,
   "id": "30502e65",
   "metadata": {},
   "outputs": [
    {
     "data": {
      "text/plain": [
       "array([4.61218990e-01, 6.48532332e-01, 8.26956496e-01, 4.42534824e-01,\n",
       "       5.78158434e-01, 8.68286886e-01, 2.64422104e-01, 5.20027457e-01,\n",
       "       1.11782829e-06, 7.43992492e-02])"
      ]
     },
     "execution_count": 14,
     "metadata": {},
     "output_type": "execute_result"
    }
   ],
   "source": [
    "Y"
   ]
  },
  {
   "cell_type": "code",
   "execution_count": 17,
   "id": "169ddd69",
   "metadata": {},
   "outputs": [
    {
     "data": {
      "text/plain": [
       "True"
      ]
     },
     "execution_count": 17,
     "metadata": {},
     "output_type": "execute_result"
    }
   ],
   "source": [
    "np.any(Y<0.9)"
   ]
  },
  {
   "cell_type": "code",
   "execution_count": 18,
   "id": "67696bfe",
   "metadata": {},
   "outputs": [
    {
     "data": {
      "text/plain": [
       "False"
      ]
     },
     "execution_count": 18,
     "metadata": {},
     "output_type": "execute_result"
    }
   ],
   "source": [
    "np.all(Y>=0.1)"
   ]
  },
  {
   "cell_type": "code",
   "execution_count": 19,
   "id": "0dd05b3e",
   "metadata": {},
   "outputs": [
    {
     "data": {
      "text/plain": [
       "array([4.61218990e-01, 6.48532332e-01, 8.26956496e-01, 4.42534824e-01,\n",
       "       5.78158434e-01, 8.68286886e-01, 2.64422104e-01, 5.20027457e-01,\n",
       "       1.11782829e-06, 7.43992492e-02])"
      ]
     },
     "execution_count": 19,
     "metadata": {},
     "output_type": "execute_result"
    }
   ],
   "source": [
    "Y"
   ]
  },
  {
   "cell_type": "code",
   "execution_count": 24,
   "id": "fbde9ae8",
   "metadata": {},
   "outputs": [],
   "source": [
    "X=np.array([[2,3,4], [5,8,9]])"
   ]
  },
  {
   "cell_type": "code",
   "execution_count": 25,
   "id": "cab856f4",
   "metadata": {},
   "outputs": [
    {
     "data": {
      "text/plain": [
       "6"
      ]
     },
     "execution_count": 25,
     "metadata": {},
     "output_type": "execute_result"
    }
   ],
   "source": [
    "X.size"
   ]
  },
  {
   "cell_type": "code",
   "execution_count": 26,
   "id": "1c22cc17",
   "metadata": {},
   "outputs": [
    {
     "data": {
      "text/plain": [
       "(2, 3)"
      ]
     },
     "execution_count": 26,
     "metadata": {},
     "output_type": "execute_result"
    }
   ],
   "source": [
    "X.shape"
   ]
  },
  {
   "cell_type": "code",
   "execution_count": null,
   "id": "5e5927ba",
   "metadata": {},
   "outputs": [],
   "source": []
  }
 ],
 "metadata": {
  "kernelspec": {
   "display_name": "Python 3 (ipykernel)",
   "language": "python",
   "name": "python3"
  },
  "language_info": {
   "codemirror_mode": {
    "name": "ipython",
    "version": 3
   },
   "file_extension": ".py",
   "mimetype": "text/x-python",
   "name": "python",
   "nbconvert_exporter": "python",
   "pygments_lexer": "ipython3",
   "version": "3.10.1"
  }
 },
 "nbformat": 4,
 "nbformat_minor": 5
}
