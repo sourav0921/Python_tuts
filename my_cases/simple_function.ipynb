{
 "cells": [
  {
   "cell_type": "code",
   "execution_count": 3,
   "id": "2955b0f4",
   "metadata": {},
   "outputs": [
    {
     "name": "stdout",
     "output_type": "stream",
     "text": [
      "The intersection is [2, 3, 4]\n",
      "The password is 5jk5c4e\n"
     ]
    }
   ],
   "source": [
    "def intersection(s1,s2):\n",
    "    set=[]    \n",
    "    for i in s1:\n",
    "        if i in s2:\n",
    "            set.append(i)\n",
    "    return(set)\n",
    "\n",
    "A=intersection([1,2,3,4,5,6],[2,4,3,7,8])\n",
    "\n",
    "print('The intersection is', A)\n",
    "\n",
    "\n",
    "import random\n",
    "\n",
    "def password(lenght):\n",
    "    pw=str()\n",
    "    character=\"abcdefghijk12345678\"\n",
    "    for i in range(lenght):\n",
    "        pw=pw+random.choice(character)\n",
    "    return(pw)\n",
    "\n",
    "print(\"The password is\", password(7))"
   ]
  },
  {
   "cell_type": "code",
   "execution_count": null,
   "id": "fe39b477",
   "metadata": {},
   "outputs": [],
   "source": []
  }
 ],
 "metadata": {
  "kernelspec": {
   "display_name": "Python 3 (ipykernel)",
   "language": "python",
   "name": "python3"
  },
  "language_info": {
   "codemirror_mode": {
    "name": "ipython",
    "version": 3
   },
   "file_extension": ".py",
   "mimetype": "text/x-python",
   "name": "python",
   "nbconvert_exporter": "python",
   "pygments_lexer": "ipython3",
   "version": "3.10.1"
  }
 },
 "nbformat": 4,
 "nbformat_minor": 5
}
